{
 "cells": [
  {
   "cell_type": "code",
   "execution_count": 83,
   "metadata": {},
   "outputs": [],
   "source": [
    "import requests \n",
    "import re\n",
    "import pandas as pd\n",
    "from data_collection import *\n",
    "import matplotlib.pyplot as plt\n",
    "import numpy as np\n",
    "import seaborn as sns\n",
    "import keras\n",
    "from sklearn.preprocessing import StandardScaler\n",
    "from sklearn.model_selection import train_test_split\n",
    "from sklearn.ensemble import ExtraTreesClassifier\n",
    "from sklearn.linear_model import LogisticRegression\n",
    "from sklearn.metrics import f1_score, accuracy_score\n",
    "from sklearn.naive_bayes import GaussianNB\n",
    "from sklearn.ensemble import GradientBoostingClassifier,RandomForestClassifier,BaggingClassifier\n",
    "from keras.models import Sequential\n",
    "from keras.layers import *\n",
    "from keras import backend as K\n",
    "from sklearn.model_selection import GridSearchCV\n",
    "from keras.wrappers.scikit_learn import KerasClassifier\n",
    "from sklearn.tree import DecisionTreeClassifier"
   ]
  },
  {
   "cell_type": "markdown",
   "metadata": {},
   "source": [
    "# Get Data"
   ]
  },
  {
   "cell_type": "code",
   "execution_count": 116,
   "metadata": {},
   "outputs": [],
   "source": [
    "# create dataframe of train values and labels\n",
    "Train_values_df = get_data(\"https://s3.amazonaws.com/drivendata/data/57/public/train_values.csv\")\n",
    "train_labels_df = get_data(\"https://s3.amazonaws.com/drivendata/data/57/public/train_labels.csv\")\n",
    "Test_values_df = get_data(\"https://s3.amazonaws.com/drivendata/data/57/public/test_values.csv\")"
   ]
  },
  {
   "cell_type": "code",
   "execution_count": 117,
   "metadata": {},
   "outputs": [
    {
     "data": {
      "text/html": [
       "<div>\n",
       "<style scoped>\n",
       "    .dataframe tbody tr th:only-of-type {\n",
       "        vertical-align: middle;\n",
       "    }\n",
       "\n",
       "    .dataframe tbody tr th {\n",
       "        vertical-align: top;\n",
       "    }\n",
       "\n",
       "    .dataframe thead th {\n",
       "        text-align: right;\n",
       "    }\n",
       "</style>\n",
       "<table border=\"1\" class=\"dataframe\">\n",
       "  <thead>\n",
       "    <tr style=\"text-align: right;\">\n",
       "      <th></th>\n",
       "      <th>building_id</th>\n",
       "      <th>geo_level_1_id</th>\n",
       "      <th>geo_level_2_id</th>\n",
       "      <th>geo_level_3_id</th>\n",
       "      <th>count_floors_pre_eq</th>\n",
       "      <th>age</th>\n",
       "      <th>area_percentage</th>\n",
       "      <th>height_percentage</th>\n",
       "      <th>land_surface_condition</th>\n",
       "      <th>foundation_type</th>\n",
       "      <th>...</th>\n",
       "      <th>has_secondary_use_agriculture</th>\n",
       "      <th>has_secondary_use_hotel</th>\n",
       "      <th>has_secondary_use_rental</th>\n",
       "      <th>has_secondary_use_institution</th>\n",
       "      <th>has_secondary_use_school</th>\n",
       "      <th>has_secondary_use_industry</th>\n",
       "      <th>has_secondary_use_health_post</th>\n",
       "      <th>has_secondary_use_gov_office</th>\n",
       "      <th>has_secondary_use_use_police</th>\n",
       "      <th>has_secondary_use_other</th>\n",
       "    </tr>\n",
       "  </thead>\n",
       "  <tbody>\n",
       "    <tr>\n",
       "      <th>1</th>\n",
       "      <td>802906</td>\n",
       "      <td>6</td>\n",
       "      <td>487</td>\n",
       "      <td>12198</td>\n",
       "      <td>2</td>\n",
       "      <td>30</td>\n",
       "      <td>6</td>\n",
       "      <td>5</td>\n",
       "      <td>t</td>\n",
       "      <td>r</td>\n",
       "      <td>...</td>\n",
       "      <td>0</td>\n",
       "      <td>0</td>\n",
       "      <td>0</td>\n",
       "      <td>0</td>\n",
       "      <td>0</td>\n",
       "      <td>0</td>\n",
       "      <td>0</td>\n",
       "      <td>0</td>\n",
       "      <td>0</td>\n",
       "      <td>0</td>\n",
       "    </tr>\n",
       "    <tr>\n",
       "      <th>2</th>\n",
       "      <td>28830</td>\n",
       "      <td>8</td>\n",
       "      <td>900</td>\n",
       "      <td>2812</td>\n",
       "      <td>2</td>\n",
       "      <td>10</td>\n",
       "      <td>8</td>\n",
       "      <td>7</td>\n",
       "      <td>o</td>\n",
       "      <td>r</td>\n",
       "      <td>...</td>\n",
       "      <td>0</td>\n",
       "      <td>0</td>\n",
       "      <td>0</td>\n",
       "      <td>0</td>\n",
       "      <td>0</td>\n",
       "      <td>0</td>\n",
       "      <td>0</td>\n",
       "      <td>0</td>\n",
       "      <td>0</td>\n",
       "      <td>0</td>\n",
       "    </tr>\n",
       "    <tr>\n",
       "      <th>3</th>\n",
       "      <td>94947</td>\n",
       "      <td>21</td>\n",
       "      <td>363</td>\n",
       "      <td>8973</td>\n",
       "      <td>2</td>\n",
       "      <td>10</td>\n",
       "      <td>5</td>\n",
       "      <td>5</td>\n",
       "      <td>t</td>\n",
       "      <td>r</td>\n",
       "      <td>...</td>\n",
       "      <td>0</td>\n",
       "      <td>0</td>\n",
       "      <td>0</td>\n",
       "      <td>0</td>\n",
       "      <td>0</td>\n",
       "      <td>0</td>\n",
       "      <td>0</td>\n",
       "      <td>0</td>\n",
       "      <td>0</td>\n",
       "      <td>0</td>\n",
       "    </tr>\n",
       "    <tr>\n",
       "      <th>4</th>\n",
       "      <td>590882</td>\n",
       "      <td>22</td>\n",
       "      <td>418</td>\n",
       "      <td>10694</td>\n",
       "      <td>2</td>\n",
       "      <td>10</td>\n",
       "      <td>6</td>\n",
       "      <td>5</td>\n",
       "      <td>t</td>\n",
       "      <td>r</td>\n",
       "      <td>...</td>\n",
       "      <td>0</td>\n",
       "      <td>0</td>\n",
       "      <td>0</td>\n",
       "      <td>0</td>\n",
       "      <td>0</td>\n",
       "      <td>0</td>\n",
       "      <td>0</td>\n",
       "      <td>0</td>\n",
       "      <td>0</td>\n",
       "      <td>0</td>\n",
       "    </tr>\n",
       "    <tr>\n",
       "      <th>5</th>\n",
       "      <td>201944</td>\n",
       "      <td>11</td>\n",
       "      <td>131</td>\n",
       "      <td>1488</td>\n",
       "      <td>3</td>\n",
       "      <td>30</td>\n",
       "      <td>8</td>\n",
       "      <td>9</td>\n",
       "      <td>t</td>\n",
       "      <td>r</td>\n",
       "      <td>...</td>\n",
       "      <td>0</td>\n",
       "      <td>0</td>\n",
       "      <td>0</td>\n",
       "      <td>0</td>\n",
       "      <td>0</td>\n",
       "      <td>0</td>\n",
       "      <td>0</td>\n",
       "      <td>0</td>\n",
       "      <td>0</td>\n",
       "      <td>0</td>\n",
       "    </tr>\n",
       "  </tbody>\n",
       "</table>\n",
       "<p>5 rows × 39 columns</p>\n",
       "</div>"
      ],
      "text/plain": [
       "   building_id  geo_level_1_id  geo_level_2_id  geo_level_3_id  \\\n",
       "1       802906               6             487           12198   \n",
       "2        28830               8             900            2812   \n",
       "3        94947              21             363            8973   \n",
       "4       590882              22             418           10694   \n",
       "5       201944              11             131            1488   \n",
       "\n",
       "   count_floors_pre_eq  age  area_percentage  height_percentage  \\\n",
       "1                    2   30                6                  5   \n",
       "2                    2   10                8                  7   \n",
       "3                    2   10                5                  5   \n",
       "4                    2   10                6                  5   \n",
       "5                    3   30                8                  9   \n",
       "\n",
       "  land_surface_condition foundation_type  ... has_secondary_use_agriculture  \\\n",
       "1                      t               r  ...                             0   \n",
       "2                      o               r  ...                             0   \n",
       "3                      t               r  ...                             0   \n",
       "4                      t               r  ...                             0   \n",
       "5                      t               r  ...                             0   \n",
       "\n",
       "  has_secondary_use_hotel has_secondary_use_rental  \\\n",
       "1                       0                        0   \n",
       "2                       0                        0   \n",
       "3                       0                        0   \n",
       "4                       0                        0   \n",
       "5                       0                        0   \n",
       "\n",
       "  has_secondary_use_institution has_secondary_use_school  \\\n",
       "1                             0                        0   \n",
       "2                             0                        0   \n",
       "3                             0                        0   \n",
       "4                             0                        0   \n",
       "5                             0                        0   \n",
       "\n",
       "   has_secondary_use_industry  has_secondary_use_health_post  \\\n",
       "1                           0                              0   \n",
       "2                           0                              0   \n",
       "3                           0                              0   \n",
       "4                           0                              0   \n",
       "5                           0                              0   \n",
       "\n",
       "   has_secondary_use_gov_office  has_secondary_use_use_police  \\\n",
       "1                             0                             0   \n",
       "2                             0                             0   \n",
       "3                             0                             0   \n",
       "4                             0                             0   \n",
       "5                             0                             0   \n",
       "\n",
       "   has_secondary_use_other  \n",
       "1                        0  \n",
       "2                        0  \n",
       "3                        0  \n",
       "4                        0  \n",
       "5                        0  \n",
       "\n",
       "[5 rows x 39 columns]"
      ]
     },
     "execution_count": 117,
     "metadata": {},
     "output_type": "execute_result"
    }
   ],
   "source": [
    "Train_values_df.head()"
   ]
  },
  {
   "cell_type": "code",
   "execution_count": 118,
   "metadata": {},
   "outputs": [
    {
     "data": {
      "text/html": [
       "<div>\n",
       "<style scoped>\n",
       "    .dataframe tbody tr th:only-of-type {\n",
       "        vertical-align: middle;\n",
       "    }\n",
       "\n",
       "    .dataframe tbody tr th {\n",
       "        vertical-align: top;\n",
       "    }\n",
       "\n",
       "    .dataframe thead th {\n",
       "        text-align: right;\n",
       "    }\n",
       "</style>\n",
       "<table border=\"1\" class=\"dataframe\">\n",
       "  <thead>\n",
       "    <tr style=\"text-align: right;\">\n",
       "      <th></th>\n",
       "      <th>building_id</th>\n",
       "      <th>damage_grade</th>\n",
       "    </tr>\n",
       "  </thead>\n",
       "  <tbody>\n",
       "    <tr>\n",
       "      <th>1</th>\n",
       "      <td>802906</td>\n",
       "      <td>3</td>\n",
       "    </tr>\n",
       "    <tr>\n",
       "      <th>2</th>\n",
       "      <td>28830</td>\n",
       "      <td>2</td>\n",
       "    </tr>\n",
       "    <tr>\n",
       "      <th>3</th>\n",
       "      <td>94947</td>\n",
       "      <td>3</td>\n",
       "    </tr>\n",
       "    <tr>\n",
       "      <th>4</th>\n",
       "      <td>590882</td>\n",
       "      <td>2</td>\n",
       "    </tr>\n",
       "    <tr>\n",
       "      <th>5</th>\n",
       "      <td>201944</td>\n",
       "      <td>3</td>\n",
       "    </tr>\n",
       "  </tbody>\n",
       "</table>\n",
       "</div>"
      ],
      "text/plain": [
       "   building_id  damage_grade\n",
       "1       802906             3\n",
       "2        28830             2\n",
       "3        94947             3\n",
       "4       590882             2\n",
       "5       201944             3"
      ]
     },
     "execution_count": 118,
     "metadata": {},
     "output_type": "execute_result"
    }
   ],
   "source": [
    "train_labels_df.head()"
   ]
  },
  {
   "cell_type": "code",
   "execution_count": 119,
   "metadata": {},
   "outputs": [],
   "source": [
    "Train_values_df = Train_values_df.drop(labels=['building_id'],axis=1)\n",
    "Test_values = Test_values_df.drop(labels=['building_id'],axis=1)"
   ]
  },
  {
   "cell_type": "code",
   "execution_count": 88,
   "metadata": {},
   "outputs": [
    {
     "data": {
      "text/plain": [
       "geo_level_1_id                               int64\n",
       "geo_level_2_id                               int64\n",
       "geo_level_3_id                               int64\n",
       "count_floors_pre_eq                          int64\n",
       "age                                          int64\n",
       "area_percentage                              int64\n",
       "height_percentage                            int64\n",
       "land_surface_condition                    category\n",
       "foundation_type                           category\n",
       "roof_type                                 category\n",
       "ground_floor_type                         category\n",
       "other_floor_type                          category\n",
       "position                                  category\n",
       "plan_configuration                        category\n",
       "has_superstructure_adobe_mud                 int64\n",
       "has_superstructure_mud_mortar_stone          int64\n",
       "has_superstructure_stone_flag                int64\n",
       "has_superstructure_cement_mortar_stone       int64\n",
       "has_superstructure_mud_mortar_brick          int64\n",
       "has_superstructure_cement_mortar_brick       int64\n",
       "has_superstructure_timber                    int64\n",
       "has_superstructure_bamboo                    int64\n",
       "has_superstructure_rc_non_engineered         int64\n",
       "has_superstructure_rc_engineered             int64\n",
       "has_superstructure_other                     int64\n",
       "legal_ownership_status                    category\n",
       "count_families                               int64\n",
       "has_secondary_use                            int64\n",
       "has_secondary_use_agriculture                int64\n",
       "has_secondary_use_hotel                      int64\n",
       "has_secondary_use_rental                     int64\n",
       "has_secondary_use_institution                int64\n",
       "has_secondary_use_school                     int64\n",
       "has_secondary_use_industry                   int64\n",
       "has_secondary_use_health_post                int64\n",
       "has_secondary_use_gov_office                 int64\n",
       "has_secondary_use_use_police                 int64\n",
       "has_secondary_use_other                      int64\n",
       "dtype: object"
      ]
     },
     "execution_count": 88,
     "metadata": {},
     "output_type": "execute_result"
    }
   ],
   "source": [
    "Train_values_df.dtypes"
   ]
  },
  {
   "cell_type": "code",
   "execution_count": 42,
   "metadata": {},
   "outputs": [
    {
     "data": {
      "text/plain": [
       "geo_level_1_id                            0\n",
       "geo_level_2_id                            0\n",
       "geo_level_3_id                            0\n",
       "count_floors_pre_eq                       0\n",
       "age                                       0\n",
       "area_percentage                           0\n",
       "height_percentage                         0\n",
       "land_surface_condition                    0\n",
       "foundation_type                           0\n",
       "roof_type                                 0\n",
       "ground_floor_type                         0\n",
       "other_floor_type                          0\n",
       "position                                  0\n",
       "plan_configuration                        0\n",
       "has_superstructure_adobe_mud              0\n",
       "has_superstructure_mud_mortar_stone       0\n",
       "has_superstructure_stone_flag             0\n",
       "has_superstructure_cement_mortar_stone    0\n",
       "has_superstructure_mud_mortar_brick       0\n",
       "has_superstructure_cement_mortar_brick    0\n",
       "has_superstructure_timber                 0\n",
       "has_superstructure_bamboo                 0\n",
       "has_superstructure_rc_non_engineered      0\n",
       "has_superstructure_rc_engineered          0\n",
       "has_superstructure_other                  0\n",
       "legal_ownership_status                    0\n",
       "count_families                            0\n",
       "has_secondary_use                         0\n",
       "has_secondary_use_agriculture             0\n",
       "has_secondary_use_hotel                   0\n",
       "has_secondary_use_rental                  0\n",
       "has_secondary_use_institution             0\n",
       "has_secondary_use_school                  0\n",
       "has_secondary_use_industry                0\n",
       "has_secondary_use_health_post             0\n",
       "has_secondary_use_gov_office              0\n",
       "has_secondary_use_use_police              0\n",
       "has_secondary_use_other                   0\n",
       "dtype: int64"
      ]
     },
     "execution_count": 42,
     "metadata": {},
     "output_type": "execute_result"
    }
   ],
   "source": [
    "# check for null values\n",
    "Train_values_df.isnull().sum()"
   ]
  },
  {
   "cell_type": "markdown",
   "metadata": {},
   "source": [
    "# Exploration of Data"
   ]
  },
  {
   "cell_type": "code",
   "execution_count": 43,
   "metadata": {},
   "outputs": [
    {
     "data": {
      "text/plain": [
       "Text(0.5,1,'Number of Buildings of Each Damage Grade')"
      ]
     },
     "execution_count": 43,
     "metadata": {},
     "output_type": "execute_result"
    },
    {
     "data": {
      "image/png": "[encoded data removed]",
      "text/plain": [
       "<Figure size 432x288 with 1 Axes>"
      ]
     },
     "metadata": {
      "needs_background": "light"
     },
     "output_type": "display_data"
    }
   ],
   "source": [
    "# distribution of train labels\n",
    "sns.countplot(x='damage_grade',data=train_labels_df)\n",
    "plt.title('Number of Buildings of Each Damage Grade')"
   ]
  },
  {
   "cell_type": "code",
   "execution_count": 44,
   "metadata": {},
   "outputs": [],
   "source": [
    "data = Train_values_df.copy()\n",
    "data['damage_grade'] = train_labels_df['damage_grade']"
   ]
  },
  {
   "cell_type": "markdown",
   "metadata": {},
   "source": [
    "### Numeric Features"
   ]
  },
  {
   "cell_type": "code",
   "execution_count": 45,
   "metadata": {},
   "outputs": [
    {
     "data": {
      "text/html": [
       "<div>\n",
       "<style scoped>\n",
       "    .dataframe tbody tr th:only-of-type {\n",
       "        vertical-align: middle;\n",
       "    }\n",
       "\n",
       "    .dataframe tbody tr th {\n",
       "        vertical-align: top;\n",
       "    }\n",
       "\n",
       "    .dataframe thead th {\n",
       "        text-align: right;\n",
       "    }\n",
       "</style>\n",
       "<table border=\"1\" class=\"dataframe\">\n",
       "  <thead>\n",
       "    <tr style=\"text-align: right;\">\n",
       "      <th></th>\n",
       "      <th>geo_level_1_id</th>\n",
       "      <th>geo_level_2_id</th>\n",
       "      <th>geo_level_3_id</th>\n",
       "      <th>count_floors_pre_eq</th>\n",
       "      <th>age</th>\n",
       "      <th>area_percentage</th>\n",
       "      <th>height_percentage</th>\n",
       "      <th>has_superstructure_adobe_mud</th>\n",
       "      <th>has_superstructure_mud_mortar_stone</th>\n",
       "      <th>has_superstructure_stone_flag</th>\n",
       "      <th>...</th>\n",
       "      <th>has_secondary_use_agriculture</th>\n",
       "      <th>has_secondary_use_hotel</th>\n",
       "      <th>has_secondary_use_rental</th>\n",
       "      <th>has_secondary_use_institution</th>\n",
       "      <th>has_secondary_use_school</th>\n",
       "      <th>has_secondary_use_industry</th>\n",
       "      <th>has_secondary_use_health_post</th>\n",
       "      <th>has_secondary_use_gov_office</th>\n",
       "      <th>has_secondary_use_use_police</th>\n",
       "      <th>has_secondary_use_other</th>\n",
       "    </tr>\n",
       "  </thead>\n",
       "  <tbody>\n",
       "    <tr>\n",
       "      <th>count</th>\n",
       "      <td>260601.000000</td>\n",
       "      <td>260601.000000</td>\n",
       "      <td>260601.000000</td>\n",
       "      <td>260601.000000</td>\n",
       "      <td>260601.000000</td>\n",
       "      <td>260601.000000</td>\n",
       "      <td>260601.000000</td>\n",
       "      <td>260601.000000</td>\n",
       "      <td>260601.000000</td>\n",
       "      <td>260601.000000</td>\n",
       "      <td>...</td>\n",
       "      <td>260601.000000</td>\n",
       "      <td>260601.000000</td>\n",
       "      <td>260601.000000</td>\n",
       "      <td>260601.000000</td>\n",
       "      <td>260601.000000</td>\n",
       "      <td>260601.000000</td>\n",
       "      <td>260601.000000</td>\n",
       "      <td>260601.000000</td>\n",
       "      <td>260601.000000</td>\n",
       "      <td>260601.000000</td>\n",
       "    </tr>\n",
       "    <tr>\n",
       "      <th>mean</th>\n",
       "      <td>13.900353</td>\n",
       "      <td>701.074685</td>\n",
       "      <td>6257.876148</td>\n",
       "      <td>2.129723</td>\n",
       "      <td>26.535029</td>\n",
       "      <td>8.018051</td>\n",
       "      <td>5.434365</td>\n",
       "      <td>0.088645</td>\n",
       "      <td>0.761935</td>\n",
       "      <td>0.034332</td>\n",
       "      <td>...</td>\n",
       "      <td>0.064378</td>\n",
       "      <td>0.033626</td>\n",
       "      <td>0.008101</td>\n",
       "      <td>0.000940</td>\n",
       "      <td>0.000361</td>\n",
       "      <td>0.001071</td>\n",
       "      <td>0.000188</td>\n",
       "      <td>0.000146</td>\n",
       "      <td>0.000088</td>\n",
       "      <td>0.005119</td>\n",
       "    </tr>\n",
       "    <tr>\n",
       "      <th>std</th>\n",
       "      <td>8.033617</td>\n",
       "      <td>412.710734</td>\n",
       "      <td>3646.369645</td>\n",
       "      <td>0.727665</td>\n",
       "      <td>73.565937</td>\n",
       "      <td>4.392231</td>\n",
       "      <td>1.918418</td>\n",
       "      <td>0.284231</td>\n",
       "      <td>0.425900</td>\n",
       "      <td>0.182081</td>\n",
       "      <td>...</td>\n",
       "      <td>0.245426</td>\n",
       "      <td>0.180265</td>\n",
       "      <td>0.089638</td>\n",
       "      <td>0.030647</td>\n",
       "      <td>0.018989</td>\n",
       "      <td>0.032703</td>\n",
       "      <td>0.013711</td>\n",
       "      <td>0.012075</td>\n",
       "      <td>0.009394</td>\n",
       "      <td>0.071364</td>\n",
       "    </tr>\n",
       "    <tr>\n",
       "      <th>min</th>\n",
       "      <td>0.000000</td>\n",
       "      <td>0.000000</td>\n",
       "      <td>0.000000</td>\n",
       "      <td>1.000000</td>\n",
       "      <td>0.000000</td>\n",
       "      <td>1.000000</td>\n",
       "      <td>2.000000</td>\n",
       "      <td>0.000000</td>\n",
       "      <td>0.000000</td>\n",
       "      <td>0.000000</td>\n",
       "      <td>...</td>\n",
       "      <td>0.000000</td>\n",
       "      <td>0.000000</td>\n",
       "      <td>0.000000</td>\n",
       "      <td>0.000000</td>\n",
       "      <td>0.000000</td>\n",
       "      <td>0.000000</td>\n",
       "      <td>0.000000</td>\n",
       "      <td>0.000000</td>\n",
       "      <td>0.000000</td>\n",
       "      <td>0.000000</td>\n",
       "    </tr>\n",
       "    <tr>\n",
       "      <th>25%</th>\n",
       "      <td>7.000000</td>\n",
       "      <td>350.000000</td>\n",
       "      <td>3073.000000</td>\n",
       "      <td>2.000000</td>\n",
       "      <td>10.000000</td>\n",
       "      <td>5.000000</td>\n",
       "      <td>4.000000</td>\n",
       "      <td>0.000000</td>\n",
       "      <td>1.000000</td>\n",
       "      <td>0.000000</td>\n",
       "      <td>...</td>\n",
       "      <td>0.000000</td>\n",
       "      <td>0.000000</td>\n",
       "      <td>0.000000</td>\n",
       "      <td>0.000000</td>\n",
       "      <td>0.000000</td>\n",
       "      <td>0.000000</td>\n",
       "      <td>0.000000</td>\n",
       "      <td>0.000000</td>\n",
       "      <td>0.000000</td>\n",
       "      <td>0.000000</td>\n",
       "    </tr>\n",
       "    <tr>\n",
       "      <th>50%</th>\n",
       "      <td>12.000000</td>\n",
       "      <td>702.000000</td>\n",
       "      <td>6270.000000</td>\n",
       "      <td>2.000000</td>\n",
       "      <td>15.000000</td>\n",
       "      <td>7.000000</td>\n",
       "      <td>5.000000</td>\n",
       "      <td>0.000000</td>\n",
       "      <td>1.000000</td>\n",
       "      <td>0.000000</td>\n",
       "      <td>...</td>\n",
       "      <td>0.000000</td>\n",
       "      <td>0.000000</td>\n",
       "      <td>0.000000</td>\n",
       "      <td>0.000000</td>\n",
       "      <td>0.000000</td>\n",
       "      <td>0.000000</td>\n",
       "      <td>0.000000</td>\n",
       "      <td>0.000000</td>\n",
       "      <td>0.000000</td>\n",
       "      <td>0.000000</td>\n",
       "    </tr>\n",
       "    <tr>\n",
       "      <th>75%</th>\n",
       "      <td>21.000000</td>\n",
       "      <td>1050.000000</td>\n",
       "      <td>9412.000000</td>\n",
       "      <td>2.000000</td>\n",
       "      <td>30.000000</td>\n",
       "      <td>9.000000</td>\n",
       "      <td>6.000000</td>\n",
       "      <td>0.000000</td>\n",
       "      <td>1.000000</td>\n",
       "      <td>0.000000</td>\n",
       "      <td>...</td>\n",
       "      <td>0.000000</td>\n",
       "      <td>0.000000</td>\n",
       "      <td>0.000000</td>\n",
       "      <td>0.000000</td>\n",
       "      <td>0.000000</td>\n",
       "      <td>0.000000</td>\n",
       "      <td>0.000000</td>\n",
       "      <td>0.000000</td>\n",
       "      <td>0.000000</td>\n",
       "      <td>0.000000</td>\n",
       "    </tr>\n",
       "    <tr>\n",
       "      <th>max</th>\n",
       "      <td>30.000000</td>\n",
       "      <td>1427.000000</td>\n",
       "      <td>12567.000000</td>\n",
       "      <td>9.000000</td>\n",
       "      <td>995.000000</td>\n",
       "      <td>100.000000</td>\n",
       "      <td>32.000000</td>\n",
       "      <td>1.000000</td>\n",
       "      <td>1.000000</td>\n",
       "      <td>1.000000</td>\n",
       "      <td>...</td>\n",
       "      <td>1.000000</td>\n",
       "      <td>1.000000</td>\n",
       "      <td>1.000000</td>\n",
       "      <td>1.000000</td>\n",
       "      <td>1.000000</td>\n",
       "      <td>1.000000</td>\n",
       "      <td>1.000000</td>\n",
       "      <td>1.000000</td>\n",
       "      <td>1.000000</td>\n",
       "      <td>1.000000</td>\n",
       "    </tr>\n",
       "  </tbody>\n",
       "</table>\n",
       "<p>8 rows × 30 columns</p>\n",
       "</div>"
      ],
      "text/plain": [
       "       geo_level_1_id  geo_level_2_id  geo_level_3_id  count_floors_pre_eq  \\\n",
       "count   260601.000000   260601.000000   260601.000000        260601.000000   \n",
       "mean        13.900353      701.074685     6257.876148             2.129723   \n",
       "std          8.033617      412.710734     3646.369645             0.727665   \n",
       "min          0.000000        0.000000        0.000000             1.000000   \n",
       "25%          7.000000      350.000000     3073.000000             2.000000   \n",
       "50%         12.000000      702.000000     6270.000000             2.000000   \n",
       "75%         21.000000     1050.000000     9412.000000             2.000000   \n",
       "max         30.000000     1427.000000    12567.000000             9.000000   \n",
       "\n",
       "                 age  area_percentage  height_percentage  \\\n",
       "count  260601.000000    260601.000000      260601.000000   \n",
       "mean       26.535029         8.018051           5.434365   \n",
       "std        73.565937         4.392231           1.918418   \n",
       "min         0.000000         1.000000           2.000000   \n",
       "25%        10.000000         5.000000           4.000000   \n",
       "50%        15.000000         7.000000           5.000000   \n",
       "75%        30.000000         9.000000           6.000000   \n",
       "max       995.000000       100.000000          32.000000   \n",
       "\n",
       "       has_superstructure_adobe_mud  has_superstructure_mud_mortar_stone  \\\n",
       "count                 260601.000000                        260601.000000   \n",
       "mean                       0.088645                             0.761935   \n",
       "std                        0.284231                             0.425900   \n",
       "min                        0.000000                             0.000000   \n",
       "25%                        0.000000                             1.000000   \n",
       "50%                        0.000000                             1.000000   \n",
       "75%                        0.000000                             1.000000   \n",
       "max                        1.000000                             1.000000   \n",
       "\n",
       "       has_superstructure_stone_flag  ...  has_secondary_use_agriculture  \\\n",
       "count                  260601.000000  ...                  260601.000000   \n",
       "mean                        0.034332  ...                       0.064378   \n",
       "std                         0.182081  ...                       0.245426   \n",
       "min                         0.000000  ...                       0.000000   \n",
       "25%                         0.000000  ...                       0.000000   \n",
       "50%                         0.000000  ...                       0.000000   \n",
       "75%                         0.000000  ...                       0.000000   \n",
       "max                         1.000000  ...                       1.000000   \n",
       "\n",
       "       has_secondary_use_hotel  has_secondary_use_rental  \\\n",
       "count            260601.000000             260601.000000   \n",
       "mean                  0.033626                  0.008101   \n",
       "std                   0.180265                  0.089638   \n",
       "min                   0.000000                  0.000000   \n",
       "25%                   0.000000                  0.000000   \n",
       "50%                   0.000000                  0.000000   \n",
       "75%                   0.000000                  0.000000   \n",
       "max                   1.000000                  1.000000   \n",
       "\n",
       "       has_secondary_use_institution  has_secondary_use_school  \\\n",
       "count                  260601.000000             260601.000000   \n",
       "mean                        0.000940                  0.000361   \n",
       "std                         0.030647                  0.018989   \n",
       "min                         0.000000                  0.000000   \n",
       "25%                         0.000000                  0.000000   \n",
       "50%                         0.000000                  0.000000   \n",
       "75%                         0.000000                  0.000000   \n",
       "max                         1.000000                  1.000000   \n",
       "\n",
       "       has_secondary_use_industry  has_secondary_use_health_post  \\\n",
       "count               260601.000000                  260601.000000   \n",
       "mean                     0.001071                       0.000188   \n",
       "std                      0.032703                       0.013711   \n",
       "min                      0.000000                       0.000000   \n",
       "25%                      0.000000                       0.000000   \n",
       "50%                      0.000000                       0.000000   \n",
       "75%                      0.000000                       0.000000   \n",
       "max                      1.000000                       1.000000   \n",
       "\n",
       "       has_secondary_use_gov_office  has_secondary_use_use_police  \\\n",
       "count                 260601.000000                 260601.000000   \n",
       "mean                       0.000146                      0.000088   \n",
       "std                        0.012075                      0.009394   \n",
       "min                        0.000000                      0.000000   \n",
       "25%                        0.000000                      0.000000   \n",
       "50%                        0.000000                      0.000000   \n",
       "75%                        0.000000                      0.000000   \n",
       "max                        1.000000                      1.000000   \n",
       "\n",
       "       has_secondary_use_other  \n",
       "count            260601.000000  \n",
       "mean                  0.005119  \n",
       "std                   0.071364  \n",
       "min                   0.000000  \n",
       "25%                   0.000000  \n",
       "50%                   0.000000  \n",
       "75%                   0.000000  \n",
       "max                   1.000000  \n",
       "\n",
       "[8 rows x 30 columns]"
      ]
     },
     "execution_count": 45,
     "metadata": {},
     "output_type": "execute_result"
    }
   ],
   "source": [
    "Train_values_df.describe()"
   ]
  },
  {
   "cell_type": "code",
   "execution_count": 46,
   "metadata": {},
   "outputs": [
    {
     "data": {
      "text/plain": [
       "<Figure size 432x288 with 0 Axes>"
      ]
     },
     "metadata": {},
     "output_type": "display_data"
    },
    {
     "data": {
      "image/png": "[encoded data removed]",
      "text/plain": [
       "<Figure size 648x216 with 3 Axes>"
      ]
     },
     "metadata": {
      "needs_background": "light"
     },
     "output_type": "display_data"
    },
    {
     "data": {
      "image/png": "[encoded data removed]",
      "text/plain": [
       "<Figure size 648x216 with 3 Axes>"
      ]
     },
     "metadata": {
      "needs_background": "light"
     },
     "output_type": "display_data"
    },
    {
     "data": {
      "image/png": "[encoded data removed]",
      "text/plain": [
       "<Figure size 648x216 with 3 Axes>"
      ]
     },
     "metadata": {
      "needs_background": "light"
     },
     "output_type": "display_data"
    },
    {
     "data": {
      "image/png": "[encoded data removed]",
      "text/plain": [
       "<Figure size 648x216 with 3 Axes>"
      ]
     },
     "metadata": {
      "needs_background": "light"
     },
     "output_type": "display_data"
    },
    {
     "data": {
      "image/png": "[encoded data removed]",
      "text/plain": [
       "<Figure size 648x216 with 3 Axes>"
      ]
     },
     "metadata": {
      "needs_background": "light"
     },
     "output_type": "display_data"
    },
    {
     "data": {
      "image/png": "[encoded data removed]",
      "text/plain": [
       "<Figure size 648x216 with 3 Axes>"
      ]
     },
     "metadata": {
      "needs_background": "light"
     },
     "output_type": "display_data"
    },
    {
     "data": {
      "image/png": "[encoded data removed]",
      "text/plain": [
       "<Figure size 648x216 with 3 Axes>"
      ]
     },
     "metadata": {
      "needs_background": "light"
     },
     "output_type": "display_data"
    },
    {
     "data": {
      "image/png": "[encoded data removed]",
      "text/plain": [
       "<Figure size 648x216 with 3 Axes>"
      ]
     },
     "metadata": {
      "needs_background": "light"
     },
     "output_type": "display_data"
    }
   ],
   "source": [
    "only_int = ['geo_level_1_id', 'geo_level_2_id', 'geo_level_3_id',\n",
    "       'count_floors_pre_eq', 'age', 'area_percentage', 'height_percentage', 'count_families']\n",
    "for i, col in enumerate(only_int):\n",
    "    plt.figure(i)\n",
    "    g = sns.FacetGrid(data=data, col='damage_grade')\n",
    "    g.map(sns.distplot, col,kde=True,hist=False)"
   ]
  },
  {
   "cell_type": "markdown",
   "metadata": {},
   "source": [
    "### Categorical Features"
   ]
  },
  {
   "cell_type": "code",
   "execution_count": 47,
   "metadata": {},
   "outputs": [
    {
     "data": {
      "image/png": "[encoded data removed]",
      "text/plain": [
       "<Figure size 432x288 with 1 Axes>"
      ]
     },
     "metadata": {
      "needs_background": "light"
     },
     "output_type": "display_data"
    },
    {
     "data": {
      "image/png": "[encoded data removed]",
      "text/plain": [
       "<Figure size 432x288 with 1 Axes>"
      ]
     },
     "metadata": {
      "needs_background": "light"
     },
     "output_type": "display_data"
    },
    {
     "data": {
      "image/png": "[encoded data removed]",
      "text/plain": [
       "<Figure size 432x288 with 1 Axes>"
      ]
     },
     "metadata": {
      "needs_background": "light"
     },
     "output_type": "display_data"
    },
    {
     "data": {
      "image/png": "[encoded data removed]",
      "text/plain": [
       "<Figure size 432x288 with 1 Axes>"
      ]
     },
     "metadata": {
      "needs_background": "light"
     },
     "output_type": "display_data"
    },
    {
     "data": {
      "image/png": "[encoded data removed]",
      "text/plain": [
       "<Figure size 432x288 with 1 Axes>"
      ]
     },
     "metadata": {
      "needs_background": "light"
     },
     "output_type": "display_data"
    },
    {
     "data": {
      "image/png": "[encoded data removed]",
      "text/plain": [
       "<Figure size 432x288 with 1 Axes>"
      ]
     },
     "metadata": {
      "needs_background": "light"
     },
     "output_type": "display_data"
    },
    {
     "data": {
      "image/png": "[encoded data removed]",
      "text/plain": [
       "<Figure size 432x288 with 1 Axes>"
      ]
     },
     "metadata": {
      "needs_background": "light"
     },
     "output_type": "display_data"
    },
    {
     "data": {
      "image/png": "[encoded data removed]",
      "text/plain": [
       "<Figure size 432x288 with 1 Axes>"
      ]
     },
     "metadata": {
      "needs_background": "light"
     },
     "output_type": "display_data"
    }
   ],
   "source": [
    "categorical_cols = ['land_surface_condition','foundation_type','roof_type','ground_floor_type', 'other_floor_type', \n",
    "                    'position','plan_configuration','legal_ownership_status']\n",
    "\n",
    "for i, col in enumerate(categorical_cols):\n",
    "    plt.figure(i)\n",
    "    plt.title('Distribution of '+col)\n",
    "    sns.countplot(x=col, data=data,hue='damage_grade')"
   ]
  },
  {
   "cell_type": "markdown",
   "metadata": {},
   "source": [
    "# Primary Modeling"
   ]
  },
  {
   "cell_type": "code",
   "execution_count": 120,
   "metadata": {},
   "outputs": [],
   "source": [
    "Train_X = pd.get_dummies(Train_values_df,drop_first=True)\n",
    "Test_X = pd.get_dummies(Test_values,drop_first=True)"
   ]
  },
  {
   "cell_type": "code",
   "execution_count": 121,
   "metadata": {},
   "outputs": [],
   "source": [
    "X_train,X_val,y_train,y_val = train_test_split(Train_X, train_labels_df['damage_grade'], \n",
    "                                               test_size=0.2, random_state=2)"
   ]
  },
  {
   "cell_type": "code",
   "execution_count": 122,
   "metadata": {},
   "outputs": [],
   "source": [
    "def test_models(clf,X_train,X_val,y_train,y_val):\n",
    "    '''Fits multiple models to see which predicts the best f1_score of the train_test_split data.'''\n",
    "    \n",
    "    clf.fit(X_train,y_train)\n",
    "    y_pred = clf.predict(X_val)\n",
    "\n",
    "    return (str(clf)),('f1',f1_score(y_val,y_pred,average='macro')),('accuracy',accuracy_score(y_val,y_pred))"
   ]
  },
  {
   "cell_type": "code",
   "execution_count": 57,
   "metadata": {},
   "outputs": [
    {
     "name": "stderr",
     "output_type": "stream",
     "text": [
      "/Library/Frameworks/Python.framework/Versions/3.7/lib/python3.7/site-packages/sklearn/linear_model/logistic.py:433: FutureWarning: Default solver will be changed to 'lbfgs' in 0.22. Specify a solver to silence this warning.\n",
      "  FutureWarning)\n",
      "/Library/Frameworks/Python.framework/Versions/3.7/lib/python3.7/site-packages/sklearn/linear_model/logistic.py:460: FutureWarning: Default multi_class will be changed to 'auto' in 0.22. Specify the multi_class option to silence this warning.\n",
      "  \"this warning.\", FutureWarning)\n"
     ]
    },
    {
     "name": "stdout",
     "output_type": "stream",
     "text": [
      "(\"LogisticRegression(C=1.0, class_weight=None, dual=False, fit_intercept=True,\\n          intercept_scaling=1, max_iter=100, multi_class='warn',\\n          n_jobs=None, penalty='l2', random_state=None, solver='warn',\\n          tol=0.0001, verbose=0, warm_start=False)\", ('f1', 0.4220201497263559), ('accuracy', 0.5831622570556974))\n",
      "('GaussianNB(priors=None, var_smoothing=1e-09)', ('f1', 0.4113556989390905), ('accuracy', 0.42976919092112587))\n",
      "(\"GradientBoostingClassifier(criterion='friedman_mse', init=None,\\n              learning_rate=0.1, loss='deviance', max_depth=3,\\n              max_features=None, max_leaf_nodes=None,\\n              min_impurity_decrease=0.0, min_impurity_split=None,\\n              min_samples_leaf=1, min_samples_split=2,\\n              min_weight_fraction_leaf=0.0, n_estimators=100,\\n              n_iter_no_change=None, presort='auto', random_state=None,\\n              subsample=1.0, tol=0.0001, validation_fraction=0.1,\\n              verbose=0, warm_start=False)\", ('f1', 0.5927863730476907), ('accuracy', 0.6804550948753861))\n"
     ]
    },
    {
     "name": "stderr",
     "output_type": "stream",
     "text": [
      "/Library/Frameworks/Python.framework/Versions/3.7/lib/python3.7/site-packages/sklearn/ensemble/forest.py:246: FutureWarning: The default value of n_estimators will change from 10 in version 0.20 to 100 in 0.22.\n",
      "  \"10 in version 0.20 to 100 in 0.22.\", FutureWarning)\n"
     ]
    },
    {
     "name": "stdout",
     "output_type": "stream",
     "text": [
      "(\"RandomForestClassifier(bootstrap=True, class_weight=None, criterion='gini',\\n            max_depth=None, max_features='auto', max_leaf_nodes=None,\\n            min_impurity_decrease=0.0, min_impurity_split=None,\\n            min_samples_leaf=1, min_samples_split=2,\\n            min_weight_fraction_leaf=0.0, n_estimators=10, n_jobs=None,\\n            oob_score=False, random_state=None, verbose=0,\\n            warm_start=False)\", ('f1', 0.6388680282678888), ('accuracy', 0.6961301586692504))\n",
      "('BaggingClassifier(base_estimator=None, bootstrap=True,\\n         bootstrap_features=False, max_features=1.0, max_samples=1.0,\\n         n_estimators=10, n_jobs=None, oob_score=False, random_state=None,\\n         verbose=0, warm_start=False)', ('f1', 0.6542480682188008), ('accuracy', 0.7065865965733581))\n"
     ]
    }
   ],
   "source": [
    "models = [ LogisticRegression(), GaussianNB(), GradientBoostingClassifier(), RandomForestClassifier(), \n",
    "          BaggingClassifier()]\n",
    "\n",
    "for clf in models:\n",
    "    print(test_models(clf,X_train,X_val,y_train,y_val))"
   ]
  },
  {
   "cell_type": "code",
   "execution_count": 123,
   "metadata": {},
   "outputs": [
    {
     "name": "stderr",
     "output_type": "stream",
     "text": [
      "/Library/Frameworks/Python.framework/Versions/3.7/lib/python3.7/site-packages/ipykernel_launcher.py:8: SettingWithCopyWarning: \n",
      "A value is trying to be set on a copy of a slice from a DataFrame.\n",
      "Try using .loc[row_indexer,col_indexer] = value instead\n",
      "\n",
      "See the caveats in the documentation: http://pandas.pydata.org/pandas-docs/stable/indexing.html#indexing-view-versus-copy\n",
      "  \n"
     ]
    }
   ],
   "source": [
    "# train data with best preforming model and submit results to competition\n",
    "best_clf = BaggingClassifier()\n",
    "clf.fit(Train_X,train_labels_df['damage_grade'])\n",
    "y_pred = clf.predict(Test_X)\n",
    "\n",
    "# submit to competition,\n",
    "submission_df = Test_values_df[['building_id']]\n",
    "submission_df['damage_grade'] = y_pred\n",
    "submission_df.to_csv('submission_bagging.csv',index=False)\n",
    "# F1 score: 0.711"
   ]
  },
  {
   "cell_type": "markdown",
   "metadata": {},
   "source": [
    "# Preprocessing Data"
   ]
  },
  {
   "cell_type": "code",
   "execution_count": 61,
   "metadata": {},
   "outputs": [],
   "source": [
    "# one hot-encoding\n",
    "train_labels = np.array(train_labels_df['damage_grade'])\n",
    "y_labels = keras.utils.to_categorical(train_labels-1, num_classes=3,dtype=int)"
   ]
  },
  {
   "cell_type": "code",
   "execution_count": 62,
   "metadata": {},
   "outputs": [
    {
     "name": "stderr",
     "output_type": "stream",
     "text": [
      "/Library/Frameworks/Python.framework/Versions/3.7/lib/python3.7/site-packages/sklearn/ensemble/forest.py:246: FutureWarning: The default value of n_estimators will change from 10 in version 0.20 to 100 in 0.22.\n",
      "  \"10 in version 0.20 to 100 in 0.22.\", FutureWarning)\n"
     ]
    },
    {
     "data": {
      "image/png": "[encoded data removed]",
      "text/plain": [
       "<Figure size 432x288 with 1 Axes>"
      ]
     },
     "metadata": {
      "needs_background": "light"
     },
     "output_type": "display_data"
    },
    {
     "data": {
      "text/plain": [
       "<Figure size 7200x7200 with 0 Axes>"
      ]
     },
     "metadata": {},
     "output_type": "display_data"
    }
   ],
   "source": [
    "model = ExtraTreesClassifier()\n",
    "model.fit(Train_X,y_labels)\n",
    "feat_importances = pd.Series(model.feature_importances_, index=Train_X.columns)\n",
    "ft = feat_importances\n",
    "num = ft.where(ft>0.005).count()\n",
    "\n",
    "ft.nlargest(num).plot(kind='barh')\n",
    "ft_importance_cols = ft.nlargest(num).index\n",
    "plt.title('Feature Importance')\n",
    "plt.figure(figsize=(100,100))\n",
    "plt.show()"
   ]
  },
  {
   "cell_type": "code",
   "execution_count": 63,
   "metadata": {},
   "outputs": [],
   "source": [
    "Train_X = Train_X[ft_importance_cols]\n",
    "Test_X = Test_X[ft_importance_cols]"
   ]
  },
  {
   "cell_type": "code",
   "execution_count": 64,
   "metadata": {},
   "outputs": [
    {
     "name": "stderr",
     "output_type": "stream",
     "text": [
      "/Library/Frameworks/Python.framework/Versions/3.7/lib/python3.7/site-packages/sklearn/preprocessing/data.py:645: DataConversionWarning: Data with input dtype uint8, int64 were all converted to float64 by StandardScaler.\n",
      "  return self.partial_fit(X, y)\n",
      "/Library/Frameworks/Python.framework/Versions/3.7/lib/python3.7/site-packages/ipykernel_launcher.py:3: DataConversionWarning: Data with input dtype uint8, int64 were all converted to float64 by StandardScaler.\n",
      "  This is separate from the ipykernel package so we can avoid doing imports until\n",
      "/Library/Frameworks/Python.framework/Versions/3.7/lib/python3.7/site-packages/ipykernel_launcher.py:5: DataConversionWarning: Data with input dtype uint8, int64 were all converted to float64 by StandardScaler.\n",
      "  \"\"\"\n"
     ]
    }
   ],
   "source": [
    "# Standardize Data\n",
    "scaler = StandardScaler().fit(Train_X)\n",
    "X = scaler.transform(Train_X)\n",
    "# Scale the test dataset\n",
    "X_test = scaler.transform(Test_X)"
   ]
  },
  {
   "cell_type": "markdown",
   "metadata": {},
   "source": [
    "# Building Keras Model"
   ]
  },
  {
   "cell_type": "code",
   "execution_count": 65,
   "metadata": {},
   "outputs": [],
   "source": [
    "X_train,X_val,y_train,y_val = train_test_split(X, y_labels, test_size=0.2, random_state=2)"
   ]
  },
  {
   "cell_type": "code",
   "execution_count": 66,
   "metadata": {},
   "outputs": [
    {
     "data": {
      "text/plain": [
       "((208480, 27), (52121, 27), (208480, 3), (52121, 3))"
      ]
     },
     "execution_count": 66,
     "metadata": {},
     "output_type": "execute_result"
    }
   ],
   "source": [
    "X_train.shape,X_val.shape,y_train.shape,y_val.shape"
   ]
  },
  {
   "cell_type": "markdown",
   "metadata": {},
   "source": [
    "### Tune for paramters"
   ]
  },
  {
   "cell_type": "code",
   "execution_count": 67,
   "metadata": {},
   "outputs": [],
   "source": [
    "# callback code for monitoring learning rate\n",
    "class lr_mon(keras.callbacks.Callback):\n",
    "     def on_epoch_end(self, epoch, logs=None):\n",
    "        print(' ### Learnig rate at the end of epoch {} is {} \\n'.format(\n",
    "            epoch, K.eval(self.model.optimizer.lr) ))"
   ]
  },
  {
   "cell_type": "code",
   "execution_count": 19,
   "metadata": {},
   "outputs": [],
   "source": [
    "def create_model(dropout_rate=0.0):\n",
    "    # create model\n",
    "    model = Sequential()\n",
    "    model.add(Dense(128, input_dim=X_train.shape[1], activation='sigmoid'))\n",
    "    model.add(Dense(units=128, activation=ReLU(max_value=None, negative_slope=0.0, threshold=0.0)))\n",
    "    model.add(Dropout(dropout_rate))\n",
    "    model.add(Dense(units=128, activation=ReLU(max_value=None, negative_slope=0.0, threshold=0.0)))\n",
    "    model.add(Dropout(dropout_rate))\n",
    "    model.add(Dense(units=128, activation=ReLU(max_value=None, negative_slope=0.0, threshold=0.0)))\n",
    "    model.add(Dropout(dropout_rate))\n",
    "    model.add(Dense(3, activation='softmax'))\n",
    "              \n",
    "    # Compile model\n",
    "    model.compile(loss='categorical_crossentropy', optimizer='adamax', metrics=['accuracy'])\n",
    "    \n",
    "    return model"
   ]
  },
  {
   "cell_type": "code",
   "execution_count": 20,
   "metadata": {},
   "outputs": [],
   "source": [
    "# create model\n",
    "model = KerasClassifier(build_fn=create_model, verbose=0)\n",
    "\n",
    "# define the grid search parameters\n",
    "batch_size = [32,64,128]\n",
    "epochs = [60, 80]\n",
    "dropout_rates = [0.1, 0.2, 0.3]\n",
    "\n",
    "param_grid = dict(batch_size=batch_size, epochs=epochs, dropout_rate=dropout_rates)\n",
    "grid = GridSearchCV(estimator=model, param_grid=param_grid, n_jobs=-1,verbose=1)"
   ]
  },
  {
   "cell_type": "code",
   "execution_count": 21,
   "metadata": {},
   "outputs": [
    {
     "name": "stdout",
     "output_type": "stream",
     "text": [
      "Fitting 3 folds for each of 18 candidates, totalling 54 fits\n"
     ]
    },
    {
     "name": "stderr",
     "output_type": "stream",
     "text": [
      "/Library/Frameworks/Python.framework/Versions/3.7/lib/python3.7/site-packages/sklearn/model_selection/_split.py:2053: FutureWarning: You should specify a value for 'cv' instead of relying on the default value. The default value will change from 3 to 5 in version 0.22.\n",
      "  warnings.warn(CV_WARNING, FutureWarning)\n",
      "[Parallel(n_jobs=-1)]: Using backend LokyBackend with 12 concurrent workers.\n",
      "[Parallel(n_jobs=-1)]: Done  26 tasks      | elapsed: 59.2min\n",
      "[Parallel(n_jobs=-1)]: Done  54 out of  54 | elapsed: 82.4min finished\n",
      "WARNING: Logging before flag parsing goes to stderr.\n",
      "W0814 03:02:29.174994 4594791872 deprecation_wrapper.py:119] From /Library/Frameworks/Python.framework/Versions/3.7/lib/python3.7/site-packages/keras/backend/tensorflow_backend.py:74: The name tf.get_default_graph is deprecated. Please use tf.compat.v1.get_default_graph instead.\n",
      "\n",
      "W0814 03:02:29.201503 4594791872 deprecation_wrapper.py:119] From /Library/Frameworks/Python.framework/Versions/3.7/lib/python3.7/site-packages/keras/backend/tensorflow_backend.py:517: The name tf.placeholder is deprecated. Please use tf.compat.v1.placeholder instead.\n",
      "\n",
      "W0814 03:02:29.205422 4594791872 deprecation_wrapper.py:119] From /Library/Frameworks/Python.framework/Versions/3.7/lib/python3.7/site-packages/keras/backend/tensorflow_backend.py:4138: The name tf.random_uniform is deprecated. Please use tf.random.uniform instead.\n",
      "\n",
      "/Library/Frameworks/Python.framework/Versions/3.7/lib/python3.7/site-packages/keras/activations.py:211: UserWarning: Do not pass a layer instance (such as ReLU) as the activation argument of another layer. Instead, advanced activation layers should be used just like any other layer in a model.\n",
      "  identifier=identifier.__class__.__name__))\n",
      "W0814 03:02:29.353884 4594791872 deprecation_wrapper.py:119] From /Library/Frameworks/Python.framework/Versions/3.7/lib/python3.7/site-packages/keras/backend/tensorflow_backend.py:133: The name tf.placeholder_with_default is deprecated. Please use tf.compat.v1.placeholder_with_default instead.\n",
      "\n",
      "W0814 03:02:29.360959 4594791872 deprecation.py:506] From /Library/Frameworks/Python.framework/Versions/3.7/lib/python3.7/site-packages/keras/backend/tensorflow_backend.py:3445: calling dropout (from tensorflow.python.ops.nn_ops) with keep_prob is deprecated and will be removed in a future version.\n",
      "Instructions for updating:\n",
      "Please use `rate` instead of `keep_prob`. Rate should be set to `rate = 1 - keep_prob`.\n",
      "/Library/Frameworks/Python.framework/Versions/3.7/lib/python3.7/site-packages/keras/activations.py:211: UserWarning: Do not pass a layer instance (such as ReLU) as the activation argument of another layer. Instead, advanced activation layers should be used just like any other layer in a model.\n",
      "  identifier=identifier.__class__.__name__))\n",
      "/Library/Frameworks/Python.framework/Versions/3.7/lib/python3.7/site-packages/keras/activations.py:211: UserWarning: Do not pass a layer instance (such as ReLU) as the activation argument of another layer. Instead, advanced activation layers should be used just like any other layer in a model.\n",
      "  identifier=identifier.__class__.__name__))\n",
      "W0814 03:02:29.440935 4594791872 deprecation_wrapper.py:119] From /Library/Frameworks/Python.framework/Versions/3.7/lib/python3.7/site-packages/keras/optimizers.py:790: The name tf.train.Optimizer is deprecated. Please use tf.compat.v1.train.Optimizer instead.\n",
      "\n",
      "W0814 03:02:29.457869 4594791872 deprecation_wrapper.py:119] From /Library/Frameworks/Python.framework/Versions/3.7/lib/python3.7/site-packages/keras/backend/tensorflow_backend.py:3295: The name tf.log is deprecated. Please use tf.math.log instead.\n",
      "\n",
      "W0814 03:02:29.527903 4594791872 deprecation.py:323] From /Library/Frameworks/Python.framework/Versions/3.7/lib/python3.7/site-packages/tensorflow/python/ops/math_grad.py:1250: add_dispatch_support.<locals>.wrapper (from tensorflow.python.ops.array_ops) is deprecated and will be removed in a future version.\n",
      "Instructions for updating:\n",
      "Use tf.where in 2.0, which has the same broadcast rule as np.where\n"
     ]
    },
    {
     "name": "stdout",
     "output_type": "stream",
     "text": [
      "Train on 208480 samples, validate on 52121 samples\n",
      "Epoch 1/80\n",
      "208480/208480 [==============================] - 5s 22us/step - loss: 0.7921 - acc: 0.5975 - val_loss: 0.7730 - val_acc: 0.6222\n",
      " ### Learnig rate at the end of epoch 0 is 0.0020000000949949026 \n",
      "\n",
      "Epoch 2/80\n",
      "208480/208480 [==============================] - 4s 20us/step - loss: 0.7587 - acc: 0.6305 - val_loss: 0.7476 - val_acc: 0.6320\n",
      " ### Learnig rate at the end of epoch 1 is 0.0020000000949949026 \n",
      "\n",
      "Epoch 3/80\n",
      "208480/208480 [==============================] - 4s 20us/step - loss: 0.7394 - acc: 0.6427 - val_loss: 0.7318 - val_acc: 0.6457\n",
      " ### Learnig rate at the end of epoch 2 is 0.0020000000949949026 \n",
      "\n",
      "Epoch 4/80\n",
      "208480/208480 [==============================] - 4s 20us/step - loss: 0.7290 - acc: 0.6493 - val_loss: 0.7285 - val_acc: 0.6501\n",
      " ### Learnig rate at the end of epoch 3 is 0.0020000000949949026 \n",
      "\n",
      "Epoch 5/80\n",
      "208480/208480 [==============================] - 4s 20us/step - loss: 0.7229 - acc: 0.6530 - val_loss: 0.7187 - val_acc: 0.6590\n",
      " ### Learnig rate at the end of epoch 4 is 0.0020000000949949026 \n",
      "\n",
      "Epoch 6/80\n",
      "208480/208480 [==============================] - 4s 20us/step - loss: 0.7189 - acc: 0.6564 - val_loss: 0.7135 - val_acc: 0.6633\n",
      " ### Learnig rate at the end of epoch 5 is 0.0020000000949949026 \n",
      "\n",
      "Epoch 7/80\n",
      "208480/208480 [==============================] - 4s 20us/step - loss: 0.7160 - acc: 0.6584 - val_loss: 0.7157 - val_acc: 0.6646\n",
      " ### Learnig rate at the end of epoch 6 is 0.0020000000949949026 \n",
      "\n",
      "Epoch 8/80\n",
      "208480/208480 [==============================] - 4s 20us/step - loss: 0.7130 - acc: 0.6608 - val_loss: 0.7090 - val_acc: 0.6647\n",
      " ### Learnig rate at the end of epoch 7 is 0.0020000000949949026 \n",
      "\n",
      "Epoch 9/80\n",
      "208480/208480 [==============================] - 4s 20us/step - loss: 0.7104 - acc: 0.6627 - val_loss: 0.7085 - val_acc: 0.6655\n",
      " ### Learnig rate at the end of epoch 8 is 0.0020000000949949026 \n",
      "\n",
      "Epoch 10/80\n",
      "208480/208480 [==============================] - 4s 20us/step - loss: 0.7087 - acc: 0.6640 - val_loss: 0.7065 - val_acc: 0.6674\n",
      " ### Learnig rate at the end of epoch 9 is 0.0020000000949949026 \n",
      "\n",
      "Epoch 11/80\n",
      "208480/208480 [==============================] - 4s 20us/step - loss: 0.7060 - acc: 0.6651 - val_loss: 0.7060 - val_acc: 0.6670\n",
      " ### Learnig rate at the end of epoch 10 is 0.0020000000949949026 \n",
      "\n",
      "Epoch 12/80\n",
      "208480/208480 [==============================] - 4s 20us/step - loss: 0.7038 - acc: 0.6668 - val_loss: 0.7047 - val_acc: 0.6665\n",
      " ### Learnig rate at the end of epoch 11 is 0.0020000000949949026 \n",
      "\n",
      "Epoch 13/80\n",
      "208480/208480 [==============================] - 4s 20us/step - loss: 0.7025 - acc: 0.6679 - val_loss: 0.7013 - val_acc: 0.6705\n",
      " ### Learnig rate at the end of epoch 12 is 0.0020000000949949026 \n",
      "\n",
      "Epoch 14/80\n",
      "208480/208480 [==============================] - 4s 20us/step - loss: 0.7008 - acc: 0.6690 - val_loss: 0.7030 - val_acc: 0.6665\n",
      " ### Learnig rate at the end of epoch 13 is 0.0020000000949949026 \n",
      "\n",
      "Epoch 15/80\n",
      "208480/208480 [==============================] - 4s 20us/step - loss: 0.6988 - acc: 0.6709 - val_loss: 0.6989 - val_acc: 0.6728\n",
      " ### Learnig rate at the end of epoch 14 is 0.0020000000949949026 \n",
      "\n",
      "Epoch 16/80\n",
      "208480/208480 [==============================] - 4s 20us/step - loss: 0.6976 - acc: 0.6712 - val_loss: 0.6999 - val_acc: 0.6689\n",
      " ### Learnig rate at the end of epoch 15 is 0.0020000000949949026 \n",
      "\n",
      "Epoch 17/80\n",
      "208480/208480 [==============================] - 4s 20us/step - loss: 0.6961 - acc: 0.6718 - val_loss: 0.6957 - val_acc: 0.6733\n",
      " ### Learnig rate at the end of epoch 16 is 0.0020000000949949026 \n",
      "\n",
      "Epoch 18/80\n",
      "208480/208480 [==============================] - 4s 20us/step - loss: 0.6947 - acc: 0.6731 - val_loss: 0.6958 - val_acc: 0.6744\n",
      " ### Learnig rate at the end of epoch 17 is 0.0020000000949949026 \n",
      "\n",
      "Epoch 19/80\n",
      "208480/208480 [==============================] - 4s 20us/step - loss: 0.6937 - acc: 0.6732 - val_loss: 0.7009 - val_acc: 0.6694\n",
      " ### Learnig rate at the end of epoch 18 is 0.0020000000949949026 \n",
      "\n",
      "Epoch 20/80\n",
      "208480/208480 [==============================] - 4s 20us/step - loss: 0.6917 - acc: 0.6746 - val_loss: 0.6931 - val_acc: 0.6724\n",
      " ### Learnig rate at the end of epoch 19 is 0.0020000000949949026 \n",
      "\n",
      "Epoch 21/80\n",
      "208480/208480 [==============================] - 4s 20us/step - loss: 0.6906 - acc: 0.6757 - val_loss: 0.6917 - val_acc: 0.6737\n",
      " ### Learnig rate at the end of epoch 20 is 0.0020000000949949026 \n",
      "\n",
      "Epoch 22/80\n",
      "208480/208480 [==============================] - 4s 20us/step - loss: 0.6893 - acc: 0.6769 - val_loss: 0.6931 - val_acc: 0.6745\n",
      " ### Learnig rate at the end of epoch 21 is 0.0020000000949949026 \n",
      "\n",
      "Epoch 23/80\n",
      "208480/208480 [==============================] - 4s 20us/step - loss: 0.6882 - acc: 0.6765 - val_loss: 0.6904 - val_acc: 0.6770\n",
      " ### Learnig rate at the end of epoch 22 is 0.0020000000949949026 \n",
      "\n",
      "Epoch 24/80\n",
      "208480/208480 [==============================] - 4s 20us/step - loss: 0.6870 - acc: 0.6772 - val_loss: 0.6903 - val_acc: 0.6785\n",
      " ### Learnig rate at the end of epoch 23 is 0.0020000000949949026 \n",
      "\n",
      "Epoch 25/80\n",
      "208480/208480 [==============================] - 4s 20us/step - loss: 0.6860 - acc: 0.6765 - val_loss: 0.6906 - val_acc: 0.6771\n",
      " ### Learnig rate at the end of epoch 24 is 0.0020000000949949026 \n",
      "\n",
      "Epoch 26/80\n",
      "208480/208480 [==============================] - 4s 20us/step - loss: 0.6838 - acc: 0.6787 - val_loss: 0.6917 - val_acc: 0.6764\n",
      " ### Learnig rate at the end of epoch 25 is 0.0020000000949949026 \n",
      "\n",
      "Epoch 27/80\n",
      "208480/208480 [==============================] - 4s 20us/step - loss: 0.6842 - acc: 0.6788 - val_loss: 0.6875 - val_acc: 0.6788\n",
      " ### Learnig rate at the end of epoch 26 is 0.0020000000949949026 \n",
      "\n",
      "Epoch 28/80\n",
      "208480/208480 [==============================] - 4s 20us/step - loss: 0.6828 - acc: 0.6802 - val_loss: 0.6869 - val_acc: 0.6778\n",
      " ### Learnig rate at the end of epoch 27 is 0.0020000000949949026 \n",
      "\n",
      "Epoch 29/80\n",
      "208480/208480 [==============================] - 4s 20us/step - loss: 0.6821 - acc: 0.6803 - val_loss: 0.6878 - val_acc: 0.6729\n",
      " ### Learnig rate at the end of epoch 28 is 0.0020000000949949026 \n",
      "\n",
      "Epoch 30/80\n",
      "208480/208480 [==============================] - 4s 20us/step - loss: 0.6789 - acc: 0.6821 - val_loss: 0.6847 - val_acc: 0.6805\n",
      " ### Learnig rate at the end of epoch 29 is 0.0020000000949949026 \n",
      "\n",
      "Epoch 31/80\n",
      "208480/208480 [==============================] - 4s 20us/step - loss: 0.6799 - acc: 0.6825 - val_loss: 0.6843 - val_acc: 0.6817\n",
      " ### Learnig rate at the end of epoch 30 is 0.0020000000949949026 \n",
      "\n",
      "Epoch 32/80\n",
      "208480/208480 [==============================] - 4s 20us/step - loss: 0.6786 - acc: 0.6821 - val_loss: 0.6861 - val_acc: 0.6801\n",
      " ### Learnig rate at the end of epoch 31 is 0.0020000000949949026 \n",
      "\n",
      "Epoch 33/80\n",
      "208480/208480 [==============================] - 4s 20us/step - loss: 0.6778 - acc: 0.6816 - val_loss: 0.6839 - val_acc: 0.6812\n",
      " ### Learnig rate at the end of epoch 32 is 0.0020000000949949026 \n",
      "\n",
      "Epoch 34/80\n",
      "208480/208480 [==============================] - 4s 20us/step - loss: 0.6764 - acc: 0.6828 - val_loss: 0.6815 - val_acc: 0.6837\n",
      " ### Learnig rate at the end of epoch 33 is 0.0020000000949949026 \n",
      "\n",
      "Epoch 35/80\n",
      "208480/208480 [==============================] - 4s 20us/step - loss: 0.6751 - acc: 0.6837 - val_loss: 0.6840 - val_acc: 0.6787\n",
      " ### Learnig rate at the end of epoch 34 is 0.0020000000949949026 \n",
      "\n",
      "Epoch 36/80\n",
      "208480/208480 [==============================] - 4s 20us/step - loss: 0.6742 - acc: 0.6845 - val_loss: 0.6807 - val_acc: 0.6852\n",
      " ### Learnig rate at the end of epoch 35 is 0.0020000000949949026 \n",
      "\n",
      "Epoch 37/80\n",
      "208480/208480 [==============================] - 4s 20us/step - loss: 0.6741 - acc: 0.6839 - val_loss: 0.6802 - val_acc: 0.6841\n",
      " ### Learnig rate at the end of epoch 36 is 0.0020000000949949026 \n",
      "\n",
      "Epoch 38/80\n",
      "208480/208480 [==============================] - 4s 20us/step - loss: 0.6732 - acc: 0.6858 - val_loss: 0.6825 - val_acc: 0.6793\n",
      " ### Learnig rate at the end of epoch 37 is 0.0020000000949949026 \n",
      "\n",
      "Epoch 39/80\n",
      "208480/208480 [==============================] - 4s 20us/step - loss: 0.6728 - acc: 0.6854 - val_loss: 0.6847 - val_acc: 0.6773\n",
      " ### Learnig rate at the end of epoch 38 is 0.0020000000949949026 \n",
      "\n",
      "Epoch 40/80\n",
      "208480/208480 [==============================] - 4s 20us/step - loss: 0.6713 - acc: 0.6865 - val_loss: 0.6821 - val_acc: 0.6817\n",
      " ### Learnig rate at the end of epoch 39 is 0.0020000000949949026 \n",
      "\n",
      "Epoch 41/80\n",
      "208480/208480 [==============================] - 4s 20us/step - loss: 0.6718 - acc: 0.6869 - val_loss: 0.6804 - val_acc: 0.6802\n",
      " ### Learnig rate at the end of epoch 40 is 0.0020000000949949026 \n",
      "\n",
      "Epoch 42/80\n",
      "208480/208480 [==============================] - 4s 20us/step - loss: 0.6704 - acc: 0.6871 - val_loss: 0.6788 - val_acc: 0.6836\n",
      " ### Learnig rate at the end of epoch 41 is 0.0020000000949949026 \n",
      "\n",
      "Epoch 43/80\n",
      "208480/208480 [==============================] - 4s 20us/step - loss: 0.6682 - acc: 0.6885 - val_loss: 0.6796 - val_acc: 0.6815\n",
      " ### Learnig rate at the end of epoch 42 is 0.0020000000949949026 \n",
      "\n",
      "Epoch 44/80\n",
      "208480/208480 [==============================] - 4s 20us/step - loss: 0.6687 - acc: 0.6877 - val_loss: 0.6796 - val_acc: 0.6846\n",
      " ### Learnig rate at the end of epoch 43 is 0.0020000000949949026 \n",
      "\n",
      "Epoch 45/80\n",
      "208480/208480 [==============================] - 4s 20us/step - loss: 0.6674 - acc: 0.6890 - val_loss: 0.6801 - val_acc: 0.6843\n",
      " ### Learnig rate at the end of epoch 44 is 0.0020000000949949026 \n",
      "\n",
      "Epoch 46/80\n",
      "208480/208480 [==============================] - 4s 20us/step - loss: 0.6668 - acc: 0.6896 - val_loss: 0.6787 - val_acc: 0.6836\n",
      " ### Learnig rate at the end of epoch 45 is 0.0020000000949949026 \n",
      "\n",
      "Epoch 47/80\n",
      "208480/208480 [==============================] - 4s 20us/step - loss: 0.6574 - acc: 0.6946 - val_loss: 0.6717 - val_acc: 0.6881\n",
      " ### Learnig rate at the end of epoch 46 is 0.00020000000949949026 \n",
      "\n",
      "Epoch 48/80\n",
      "208480/208480 [==============================] - 4s 20us/step - loss: 0.6557 - acc: 0.6952 - val_loss: 0.6711 - val_acc: 0.6902\n",
      " ### Learnig rate at the end of epoch 47 is 0.00020000000949949026 \n",
      "\n",
      "Epoch 49/80\n",
      "208480/208480 [==============================] - 4s 20us/step - loss: 0.6547 - acc: 0.6959 - val_loss: 0.6706 - val_acc: 0.6904\n",
      " ### Learnig rate at the end of epoch 48 is 0.00020000000949949026 \n",
      "\n",
      "Epoch 50/80\n",
      "208480/208480 [==============================] - 4s 20us/step - loss: 0.6540 - acc: 0.6967 - val_loss: 0.6702 - val_acc: 0.6899\n",
      " ### Learnig rate at the end of epoch 49 is 0.00020000000949949026 \n",
      "\n",
      "Epoch 51/80\n",
      "208480/208480 [==============================] - 4s 20us/step - loss: 0.6533 - acc: 0.6960 - val_loss: 0.6705 - val_acc: 0.6906\n",
      " ### Learnig rate at the end of epoch 50 is 0.00020000000949949026 \n",
      "\n",
      "Epoch 52/80\n",
      "208480/208480 [==============================] - 4s 20us/step - loss: 0.6532 - acc: 0.6967 - val_loss: 0.6703 - val_acc: 0.6902\n",
      " ### Learnig rate at the end of epoch 51 is 0.00020000000949949026 \n",
      "\n",
      "Epoch 53/80\n",
      "208480/208480 [==============================] - 4s 20us/step - loss: 0.6526 - acc: 0.6969 - val_loss: 0.6697 - val_acc: 0.6906\n",
      " ### Learnig rate at the end of epoch 52 is 0.00020000000949949026 \n",
      "\n",
      "Epoch 54/80\n",
      "208480/208480 [==============================] - 4s 20us/step - loss: 0.6525 - acc: 0.6966 - val_loss: 0.6699 - val_acc: 0.6903\n",
      " ### Learnig rate at the end of epoch 53 is 0.00020000000949949026 \n",
      "\n",
      "Epoch 55/80\n",
      "208480/208480 [==============================] - 4s 20us/step - loss: 0.6524 - acc: 0.6976 - val_loss: 0.6699 - val_acc: 0.6904\n",
      " ### Learnig rate at the end of epoch 54 is 0.00020000000949949026 \n",
      "\n",
      "Epoch 56/80\n",
      "208480/208480 [==============================] - 4s 20us/step - loss: 0.6517 - acc: 0.6979 - val_loss: 0.6705 - val_acc: 0.6889\n",
      " ### Learnig rate at the end of epoch 55 is 0.00020000000949949026 \n",
      "\n",
      "Epoch 57/80\n",
      "208480/208480 [==============================] - 4s 20us/step - loss: 0.6519 - acc: 0.6977 - val_loss: 0.6695 - val_acc: 0.6906\n",
      " ### Learnig rate at the end of epoch 56 is 0.00020000000949949026 \n",
      "\n",
      "Epoch 58/80\n",
      "208480/208480 [==============================] - 4s 20us/step - loss: 0.6518 - acc: 0.6978 - val_loss: 0.6695 - val_acc: 0.6900\n",
      " ### Learnig rate at the end of epoch 57 is 0.00020000000949949026 \n",
      "\n",
      "Epoch 59/80\n",
      "208480/208480 [==============================] - 4s 20us/step - loss: 0.6515 - acc: 0.6974 - val_loss: 0.6695 - val_acc: 0.6913\n",
      " ### Learnig rate at the end of epoch 58 is 0.00020000000949949026 \n",
      "\n",
      "Epoch 60/80\n",
      "208480/208480 [==============================] - 4s 20us/step - loss: 0.6516 - acc: 0.6981 - val_loss: 0.6697 - val_acc: 0.6908\n",
      " ### Learnig rate at the end of epoch 59 is 0.00020000000949949026 \n",
      "\n",
      "Epoch 61/80\n",
      "208480/208480 [==============================] - 4s 20us/step - loss: 0.6511 - acc: 0.6986 - val_loss: 0.6702 - val_acc: 0.6902\n",
      " ### Learnig rate at the end of epoch 60 is 0.00020000000949949026 \n",
      "\n",
      "Epoch 62/80\n",
      "208480/208480 [==============================] - 4s 20us/step - loss: 0.6510 - acc: 0.6978 - val_loss: 0.6699 - val_acc: 0.6907\n",
      " ### Learnig rate at the end of epoch 61 is 0.00020000000949949026 \n",
      "\n",
      "Epoch 63/80\n",
      "208480/208480 [==============================] - 4s 20us/step - loss: 0.6514 - acc: 0.6981 - val_loss: 0.6694 - val_acc: 0.6913\n",
      " ### Learnig rate at the end of epoch 62 is 0.00020000000949949026 \n",
      "\n",
      "Epoch 64/80\n",
      "208480/208480 [==============================] - 4s 20us/step - loss: 0.6507 - acc: 0.6989 - val_loss: 0.6697 - val_acc: 0.6904\n",
      " ### Learnig rate at the end of epoch 63 is 0.00020000000949949026 \n",
      "\n",
      "Epoch 65/80\n",
      "208480/208480 [==============================] - 4s 20us/step - loss: 0.6506 - acc: 0.6983 - val_loss: 0.6690 - val_acc: 0.6910\n",
      " ### Learnig rate at the end of epoch 64 is 0.00020000000949949026 \n",
      "\n",
      "Epoch 66/80\n",
      "208480/208480 [==============================] - 4s 20us/step - loss: 0.6507 - acc: 0.6978 - val_loss: 0.6698 - val_acc: 0.6904\n",
      " ### Learnig rate at the end of epoch 65 is 0.00020000000949949026 \n",
      "\n",
      "Epoch 67/80\n",
      "208480/208480 [==============================] - 4s 20us/step - loss: 0.6504 - acc: 0.6993 - val_loss: 0.6694 - val_acc: 0.6908\n",
      " ### Learnig rate at the end of epoch 66 is 0.00020000000949949026 \n",
      "\n",
      "Epoch 68/80\n",
      "208480/208480 [==============================] - 4s 20us/step - loss: 0.6502 - acc: 0.6989 - val_loss: 0.6691 - val_acc: 0.6917\n",
      " ### Learnig rate at the end of epoch 67 is 0.00020000000949949026 \n",
      "\n",
      "Epoch 69/80\n",
      "208480/208480 [==============================] - 4s 20us/step - loss: 0.6504 - acc: 0.6981 - val_loss: 0.6690 - val_acc: 0.6907\n",
      " ### Learnig rate at the end of epoch 68 is 0.00020000000949949026 \n",
      "\n",
      "Epoch 70/80\n",
      "208480/208480 [==============================] - 4s 20us/step - loss: 0.6496 - acc: 0.6993 - val_loss: 0.6686 - val_acc: 0.6919\n",
      " ### Learnig rate at the end of epoch 69 is 0.00020000000949949026 \n",
      "\n",
      "Epoch 71/80\n",
      "208480/208480 [==============================] - 4s 21us/step - loss: 0.6494 - acc: 0.6988 - val_loss: 0.6691 - val_acc: 0.6908\n",
      " ### Learnig rate at the end of epoch 70 is 0.00020000000949949026 \n",
      "\n",
      "Epoch 72/80\n",
      "208480/208480 [==============================] - 4s 21us/step - loss: 0.6495 - acc: 0.6995 - val_loss: 0.6692 - val_acc: 0.6903\n",
      " ### Learnig rate at the end of epoch 71 is 0.00020000000949949026 \n",
      "\n",
      "Epoch 73/80\n",
      "208480/208480 [==============================] - 4s 20us/step - loss: 0.6492 - acc: 0.6984 - val_loss: 0.6685 - val_acc: 0.6907\n",
      " ### Learnig rate at the end of epoch 72 is 0.00020000000949949026 \n",
      "\n",
      "Epoch 74/80\n",
      "208480/208480 [==============================] - 4s 20us/step - loss: 0.6489 - acc: 0.6995 - val_loss: 0.6694 - val_acc: 0.6909\n",
      " ### Learnig rate at the end of epoch 73 is 0.00020000000949949026 \n",
      "\n",
      "Epoch 75/80\n",
      "208480/208480 [==============================] - 4s 20us/step - loss: 0.6490 - acc: 0.6994 - val_loss: 0.6685 - val_acc: 0.6912\n",
      " ### Learnig rate at the end of epoch 74 is 0.00020000000949949026 \n",
      "\n",
      "Epoch 76/80\n",
      "208480/208480 [==============================] - 4s 20us/step - loss: 0.6491 - acc: 0.6995 - val_loss: 0.6686 - val_acc: 0.6902\n",
      " ### Learnig rate at the end of epoch 75 is 0.00020000000949949026 \n",
      "\n",
      "Epoch 77/80\n",
      "208480/208480 [==============================] - 4s 20us/step - loss: 0.6488 - acc: 0.6995 - val_loss: 0.6684 - val_acc: 0.6912\n",
      " ### Learnig rate at the end of epoch 76 is 0.00020000000949949026 \n",
      "\n",
      "Epoch 78/80\n",
      "208480/208480 [==============================] - 4s 20us/step - loss: 0.6496 - acc: 0.6993 - val_loss: 0.6688 - val_acc: 0.6910\n",
      " ### Learnig rate at the end of epoch 77 is 0.00020000000949949026 \n",
      "\n",
      "Epoch 79/80\n"
     ]
    },
    {
     "name": "stdout",
     "output_type": "stream",
     "text": [
      "208480/208480 [==============================] - 4s 20us/step - loss: 0.6478 - acc: 0.6996 - val_loss: 0.6686 - val_acc: 0.6913\n",
      " ### Learnig rate at the end of epoch 78 is 0.00020000000949949026 \n",
      "\n",
      "Epoch 80/80\n",
      "208480/208480 [==============================] - 4s 20us/step - loss: 0.6490 - acc: 0.6992 - val_loss: 0.6683 - val_acc: 0.6908\n",
      " ### Learnig rate at the end of epoch 79 is 0.00020000000949949026 \n",
      "\n"
     ]
    }
   ],
   "source": [
    "lr_call = lr_mon()\n",
    "lr_scheduler=keras.callbacks.ReduceLROnPlateau(monitor='val_acc', factor=0.1, patience=10, verbose=0, \n",
    "                                           mode='auto', min_delta=0.0001, cooldown=0, min_lr=0)\n",
    "\n",
    "grid_result = grid.fit(X_train,y_train, validation_data=(X_val,y_val),callbacks=[lr_call,lr_scheduler],verbose=1)"
   ]
  },
  {
   "cell_type": "code",
   "execution_count": 22,
   "metadata": {},
   "outputs": [
    {
     "name": "stdout",
     "output_type": "stream",
     "text": [
      "Best: 0.691150 using {'batch_size': 64, 'dropout_rate': 0.1, 'epochs': 80}\n",
      "0.686699 (0.003030) with: {'batch_size': 32, 'dropout_rate': 0.1, 'epochs': 60}\n",
      "0.688646 (0.002485) with: {'batch_size': 32, 'dropout_rate': 0.1, 'epochs': 80}\n",
      "0.674568 (0.001761) with: {'batch_size': 32, 'dropout_rate': 0.2, 'epochs': 60}\n",
      "0.679005 (0.001709) with: {'batch_size': 32, 'dropout_rate': 0.2, 'epochs': 80}\n",
      "0.668021 (0.003765) with: {'batch_size': 32, 'dropout_rate': 0.3, 'epochs': 60}\n",
      "0.667580 (0.006908) with: {'batch_size': 32, 'dropout_rate': 0.3, 'epochs': 80}\n",
      "0.684617 (0.001233) with: {'batch_size': 64, 'dropout_rate': 0.1, 'epochs': 60}\n",
      "0.691150 (0.001518) with: {'batch_size': 64, 'dropout_rate': 0.1, 'epochs': 80}\n",
      "0.678396 (0.002366) with: {'batch_size': 64, 'dropout_rate': 0.2, 'epochs': 60}\n",
      "0.680262 (0.001691) with: {'batch_size': 64, 'dropout_rate': 0.2, 'epochs': 80}\n",
      "0.668544 (0.001384) with: {'batch_size': 64, 'dropout_rate': 0.3, 'epochs': 60}\n",
      "0.668856 (0.006414) with: {'batch_size': 64, 'dropout_rate': 0.3, 'epochs': 80}\n",
      "0.684728 (0.001515) with: {'batch_size': 128, 'dropout_rate': 0.1, 'epochs': 60}\n",
      "0.688023 (0.002102) with: {'batch_size': 128, 'dropout_rate': 0.1, 'epochs': 80}\n",
      "0.677293 (0.000281) with: {'batch_size': 128, 'dropout_rate': 0.2, 'epochs': 60}\n",
      "0.682526 (0.001417) with: {'batch_size': 128, 'dropout_rate': 0.2, 'epochs': 80}\n",
      "0.670318 (0.001578) with: {'batch_size': 128, 'dropout_rate': 0.3, 'epochs': 60}\n",
      "0.675293 (0.000733) with: {'batch_size': 128, 'dropout_rate': 0.3, 'epochs': 80}\n"
     ]
    }
   ],
   "source": [
    "# summarize results\n",
    "print(\"Best: %f using %s\" % (grid_result.best_score_, grid_result.best_params_))\n",
    "means = grid_result.cv_results_['mean_test_score']\n",
    "stds = grid_result.cv_results_['std_test_score']\n",
    "params = grid_result.cv_results_['params']\n",
    "for mean, stdev, param in zip(means, stds, params):\n",
    "    print(\"%f (%f) with: %r\" % (mean, stdev, param))"
   ]
  },
  {
   "cell_type": "markdown",
   "metadata": {},
   "source": [
    "### Run Final Model"
   ]
  },
  {
   "cell_type": "code",
   "execution_count": 70,
   "metadata": {},
   "outputs": [
    {
     "name": "stderr",
     "output_type": "stream",
     "text": [
      "/Library/Frameworks/Python.framework/Versions/3.7/lib/python3.7/site-packages/keras/activations.py:211: UserWarning: Do not pass a layer instance (such as ReLU) as the activation argument of another layer. Instead, advanced activation layers should be used just like any other layer in a model.\n",
      "  identifier=identifier.__class__.__name__))\n",
      "W0818 00:24:35.351084 4576372160 deprecation_wrapper.py:119] From /Library/Frameworks/Python.framework/Versions/3.7/lib/python3.7/site-packages/keras/backend/tensorflow_backend.py:133: The name tf.placeholder_with_default is deprecated. Please use tf.compat.v1.placeholder_with_default instead.\n",
      "\n",
      "W0818 00:24:35.360033 4576372160 deprecation.py:506] From /Library/Frameworks/Python.framework/Versions/3.7/lib/python3.7/site-packages/keras/backend/tensorflow_backend.py:3445: calling dropout (from tensorflow.python.ops.nn_ops) with keep_prob is deprecated and will be removed in a future version.\n",
      "Instructions for updating:\n",
      "Please use `rate` instead of `keep_prob`. Rate should be set to `rate = 1 - keep_prob`.\n",
      "/Library/Frameworks/Python.framework/Versions/3.7/lib/python3.7/site-packages/keras/activations.py:211: UserWarning: Do not pass a layer instance (such as ReLU) as the activation argument of another layer. Instead, advanced activation layers should be used just like any other layer in a model.\n",
      "  identifier=identifier.__class__.__name__))\n",
      "/Library/Frameworks/Python.framework/Versions/3.7/lib/python3.7/site-packages/keras/activations.py:211: UserWarning: Do not pass a layer instance (such as ReLU) as the activation argument of another layer. Instead, advanced activation layers should be used just like any other layer in a model.\n",
      "  identifier=identifier.__class__.__name__))\n",
      "W0818 00:24:35.440573 4576372160 deprecation_wrapper.py:119] From /Library/Frameworks/Python.framework/Versions/3.7/lib/python3.7/site-packages/keras/optimizers.py:790: The name tf.train.Optimizer is deprecated. Please use tf.compat.v1.train.Optimizer instead.\n",
      "\n",
      "W0818 00:24:35.458108 4576372160 deprecation_wrapper.py:119] From /Library/Frameworks/Python.framework/Versions/3.7/lib/python3.7/site-packages/keras/backend/tensorflow_backend.py:3295: The name tf.log is deprecated. Please use tf.math.log instead.\n",
      "\n"
     ]
    }
   ],
   "source": [
    "# final model\n",
    "model = Sequential()\n",
    "model.add(Dense(128, input_dim=X_train.shape[1], activation='sigmoid'))\n",
    "model.add(Dense(units=128, activation=ReLU(max_value=None, negative_slope=0.0, threshold=0.0)))\n",
    "model.add(Dropout(0.1))\n",
    "model.add(Dense(units=128, activation=ReLU(max_value=None, negative_slope=0.0, threshold=0.0)))\n",
    "model.add(Dropout(0.1))\n",
    "model.add(Dense(units=128, activation=ReLU(max_value=None, negative_slope=0.0, threshold=0.0)))\n",
    "model.add(Dropout(0.1))\n",
    "model.add(Dense(3, activation='softmax'))\n",
    "\n",
    "# Compile model\n",
    "model.compile(loss='categorical_crossentropy', optimizer='adamax', metrics=['accuracy'])"
   ]
  },
  {
   "cell_type": "code",
   "execution_count": 71,
   "metadata": {},
   "outputs": [
    {
     "name": "stderr",
     "output_type": "stream",
     "text": [
      "W0818 00:24:58.029663 4576372160 deprecation.py:323] From /Library/Frameworks/Python.framework/Versions/3.7/lib/python3.7/site-packages/tensorflow/python/ops/math_grad.py:1250: add_dispatch_support.<locals>.wrapper (from tensorflow.python.ops.array_ops) is deprecated and will be removed in a future version.\n",
      "Instructions for updating:\n",
      "Use tf.where in 2.0, which has the same broadcast rule as np.where\n"
     ]
    },
    {
     "name": "stdout",
     "output_type": "stream",
     "text": [
      "Train on 208480 samples, validate on 52121 samples\n",
      "Epoch 1/80\n",
      "208480/208480 [==============================] - 5s 23us/step - loss: 0.7899 - acc: 0.6016 - val_loss: 0.7724 - val_acc: 0.6179\n",
      " ### Learnig rate at the end of epoch 0 is 0.0020000000949949026 \n",
      "\n",
      "Epoch 2/80\n",
      "208480/208480 [==============================] - 5s 22us/step - loss: 0.7558 - acc: 0.6315 - val_loss: 0.7473 - val_acc: 0.6360\n",
      " ### Learnig rate at the end of epoch 1 is 0.0020000000949949026 \n",
      "\n",
      "Epoch 3/80\n",
      "208480/208480 [==============================] - 5s 25us/step - loss: 0.7361 - acc: 0.6437 - val_loss: 0.7317 - val_acc: 0.6496\n",
      " ### Learnig rate at the end of epoch 2 is 0.0020000000949949026 \n",
      "\n",
      "Epoch 4/80\n",
      "208480/208480 [==============================] - 5s 22us/step - loss: 0.7282 - acc: 0.6491 - val_loss: 0.7223 - val_acc: 0.6593\n",
      " ### Learnig rate at the end of epoch 3 is 0.0020000000949949026 \n",
      "\n",
      "Epoch 5/80\n",
      "208480/208480 [==============================] - 6s 27us/step - loss: 0.7237 - acc: 0.6523 - val_loss: 0.7244 - val_acc: 0.6530\n",
      " ### Learnig rate at the end of epoch 4 is 0.0020000000949949026 \n",
      "\n",
      "Epoch 6/80\n",
      "208480/208480 [==============================] - 6s 30us/step - loss: 0.7199 - acc: 0.6551 - val_loss: 0.7193 - val_acc: 0.6582\n",
      " ### Learnig rate at the end of epoch 5 is 0.0020000000949949026 \n",
      "\n",
      "Epoch 7/80\n",
      "208480/208480 [==============================] - 5s 22us/step - loss: 0.7170 - acc: 0.6579 - val_loss: 0.7210 - val_acc: 0.6533\n",
      " ### Learnig rate at the end of epoch 6 is 0.0020000000949949026 \n",
      "\n",
      "Epoch 8/80\n",
      "208480/208480 [==============================] - 4s 21us/step - loss: 0.7135 - acc: 0.6608 - val_loss: 0.7158 - val_acc: 0.6600\n",
      " ### Learnig rate at the end of epoch 7 is 0.0020000000949949026 \n",
      "\n",
      "Epoch 9/80\n",
      "208480/208480 [==============================] - 5s 23us/step - loss: 0.7120 - acc: 0.6612 - val_loss: 0.7085 - val_acc: 0.6666\n",
      " ### Learnig rate at the end of epoch 8 is 0.0020000000949949026 \n",
      "\n",
      "Epoch 10/80\n",
      "208480/208480 [==============================] - 4s 21us/step - loss: 0.7099 - acc: 0.6644 - val_loss: 0.7107 - val_acc: 0.6650\n",
      " ### Learnig rate at the end of epoch 9 is 0.0020000000949949026 \n",
      "\n",
      "Epoch 11/80\n",
      "208480/208480 [==============================] - 4s 21us/step - loss: 0.7074 - acc: 0.6643 - val_loss: 0.7069 - val_acc: 0.6674\n",
      " ### Learnig rate at the end of epoch 10 is 0.0020000000949949026 \n",
      "\n",
      "Epoch 12/80\n",
      "208480/208480 [==============================] - 4s 21us/step - loss: 0.7059 - acc: 0.6665 - val_loss: 0.7068 - val_acc: 0.6676\n",
      " ### Learnig rate at the end of epoch 11 is 0.0020000000949949026 \n",
      "\n",
      "Epoch 13/80\n",
      "208480/208480 [==============================] - 4s 20us/step - loss: 0.7049 - acc: 0.6674 - val_loss: 0.7054 - val_acc: 0.6712\n",
      " ### Learnig rate at the end of epoch 12 is 0.0020000000949949026 \n",
      "\n",
      "Epoch 14/80\n",
      "208480/208480 [==============================] - 5s 23us/step - loss: 0.7023 - acc: 0.6688 - val_loss: 0.7016 - val_acc: 0.6733\n",
      " ### Learnig rate at the end of epoch 13 is 0.0020000000949949026 \n",
      "\n",
      "Epoch 15/80\n",
      "208480/208480 [==============================] - 5s 25us/step - loss: 0.7001 - acc: 0.6690 - val_loss: 0.7055 - val_acc: 0.6676\n",
      " ### Learnig rate at the end of epoch 14 is 0.0020000000949949026 \n",
      "\n",
      "Epoch 16/80\n",
      "208480/208480 [==============================] - 5s 23us/step - loss: 0.6992 - acc: 0.6697 - val_loss: 0.6992 - val_acc: 0.6731\n",
      " ### Learnig rate at the end of epoch 15 is 0.0020000000949949026 \n",
      "\n",
      "Epoch 17/80\n",
      "208480/208480 [==============================] - 5s 24us/step - loss: 0.6973 - acc: 0.6713 - val_loss: 0.6986 - val_acc: 0.6724\n",
      " ### Learnig rate at the end of epoch 16 is 0.0020000000949949026 \n",
      "\n",
      "Epoch 18/80\n",
      "208480/208480 [==============================] - 5s 24us/step - loss: 0.6952 - acc: 0.6731 - val_loss: 0.6951 - val_acc: 0.6765\n",
      " ### Learnig rate at the end of epoch 17 is 0.0020000000949949026 \n",
      "\n",
      "Epoch 19/80\n",
      "208480/208480 [==============================] - 5s 24us/step - loss: 0.6939 - acc: 0.6737 - val_loss: 0.6948 - val_acc: 0.6740\n",
      " ### Learnig rate at the end of epoch 18 is 0.0020000000949949026 \n",
      "\n",
      "Epoch 20/80\n",
      "208480/208480 [==============================] - 6s 29us/step - loss: 0.6925 - acc: 0.6742 - val_loss: 0.6946 - val_acc: 0.6749\n",
      " ### Learnig rate at the end of epoch 19 is 0.0020000000949949026 \n",
      "\n",
      "Epoch 21/80\n",
      "208480/208480 [==============================] - 5s 22us/step - loss: 0.6908 - acc: 0.6757 - val_loss: 0.6944 - val_acc: 0.6751\n",
      " ### Learnig rate at the end of epoch 20 is 0.0020000000949949026 \n",
      "\n",
      "Epoch 22/80\n",
      "208480/208480 [==============================] - 4s 21us/step - loss: 0.6899 - acc: 0.6755 - val_loss: 0.6925 - val_acc: 0.6766\n",
      " ### Learnig rate at the end of epoch 21 is 0.0020000000949949026 \n",
      "\n",
      "Epoch 23/80\n",
      "208480/208480 [==============================] - 4s 21us/step - loss: 0.6886 - acc: 0.6768 - val_loss: 0.6906 - val_acc: 0.6791\n",
      " ### Learnig rate at the end of epoch 22 is 0.0020000000949949026 \n",
      "\n",
      "Epoch 24/80\n",
      "208480/208480 [==============================] - 4s 21us/step - loss: 0.6880 - acc: 0.6772 - val_loss: 0.6890 - val_acc: 0.6790\n",
      " ### Learnig rate at the end of epoch 23 is 0.0020000000949949026 \n",
      "\n",
      "Epoch 25/80\n",
      "208480/208480 [==============================] - 4s 20us/step - loss: 0.6859 - acc: 0.6788 - val_loss: 0.6910 - val_acc: 0.6782\n",
      " ### Learnig rate at the end of epoch 24 is 0.0020000000949949026 \n",
      "\n",
      "Epoch 26/80\n",
      "208480/208480 [==============================] - 4s 21us/step - loss: 0.6852 - acc: 0.6796 - val_loss: 0.6900 - val_acc: 0.6768\n",
      " ### Learnig rate at the end of epoch 25 is 0.0020000000949949026 \n",
      "\n",
      "Epoch 27/80\n",
      "208480/208480 [==============================] - 4s 21us/step - loss: 0.6843 - acc: 0.6798 - val_loss: 0.6861 - val_acc: 0.6807\n",
      " ### Learnig rate at the end of epoch 26 is 0.0020000000949949026 \n",
      "\n",
      "Epoch 28/80\n",
      "208480/208480 [==============================] - 5s 22us/step - loss: 0.6825 - acc: 0.6803 - val_loss: 0.6897 - val_acc: 0.6790\n",
      " ### Learnig rate at the end of epoch 27 is 0.0020000000949949026 \n",
      "\n",
      "Epoch 29/80\n",
      "208480/208480 [==============================] - 5s 22us/step - loss: 0.6824 - acc: 0.6801 - val_loss: 0.6862 - val_acc: 0.6806\n",
      " ### Learnig rate at the end of epoch 28 is 0.0020000000949949026 \n",
      "\n",
      "Epoch 30/80\n",
      "208480/208480 [==============================] - 4s 21us/step - loss: 0.6808 - acc: 0.6821 - val_loss: 0.6893 - val_acc: 0.6778\n",
      " ### Learnig rate at the end of epoch 29 is 0.0020000000949949026 \n",
      "\n",
      "Epoch 31/80\n",
      "208480/208480 [==============================] - 5s 25us/step - loss: 0.6800 - acc: 0.6825 - val_loss: 0.6854 - val_acc: 0.6799\n",
      " ### Learnig rate at the end of epoch 30 is 0.0020000000949949026 \n",
      "\n",
      "Epoch 32/80\n",
      "208480/208480 [==============================] - 5s 24us/step - loss: 0.6792 - acc: 0.6837 - val_loss: 0.6832 - val_acc: 0.6833\n",
      " ### Learnig rate at the end of epoch 31 is 0.0020000000949949026 \n",
      "\n",
      "Epoch 33/80\n",
      "208480/208480 [==============================] - 4s 21us/step - loss: 0.6779 - acc: 0.6835 - val_loss: 0.6849 - val_acc: 0.6782\n",
      " ### Learnig rate at the end of epoch 32 is 0.0020000000949949026 \n",
      "\n",
      "Epoch 34/80\n",
      "208480/208480 [==============================] - 4s 20us/step - loss: 0.6768 - acc: 0.6837 - val_loss: 0.6821 - val_acc: 0.6831\n",
      " ### Learnig rate at the end of epoch 33 is 0.0020000000949949026 \n",
      "\n",
      "Epoch 35/80\n",
      "208480/208480 [==============================] - 5s 22us/step - loss: 0.6754 - acc: 0.6846 - val_loss: 0.6828 - val_acc: 0.6813\n",
      " ### Learnig rate at the end of epoch 34 is 0.0020000000949949026 \n",
      "\n",
      "Epoch 36/80\n",
      "208480/208480 [==============================] - 4s 20us/step - loss: 0.6740 - acc: 0.6855 - val_loss: 0.6807 - val_acc: 0.6854\n",
      " ### Learnig rate at the end of epoch 35 is 0.0020000000949949026 \n",
      "\n",
      "Epoch 37/80\n",
      "208480/208480 [==============================] - 4s 21us/step - loss: 0.6739 - acc: 0.6855 - val_loss: 0.6779 - val_acc: 0.6831\n",
      " ### Learnig rate at the end of epoch 36 is 0.0020000000949949026 \n",
      "\n",
      "Epoch 38/80\n",
      "208480/208480 [==============================] - 4s 21us/step - loss: 0.6726 - acc: 0.6863 - val_loss: 0.6796 - val_acc: 0.6852\n",
      " ### Learnig rate at the end of epoch 37 is 0.0020000000949949026 \n",
      "\n",
      "Epoch 39/80\n",
      "208480/208480 [==============================] - 4s 21us/step - loss: 0.6730 - acc: 0.6854 - val_loss: 0.6780 - val_acc: 0.6859\n",
      " ### Learnig rate at the end of epoch 38 is 0.0020000000949949026 \n",
      "\n",
      "Epoch 40/80\n"
     ]
    },
    {
     "name": "stdout",
     "output_type": "stream",
     "text": [
      "208480/208480 [==============================] - 4s 21us/step - loss: 0.6718 - acc: 0.6869 - val_loss: 0.6775 - val_acc: 0.6857\n",
      " ### Learnig rate at the end of epoch 39 is 0.0020000000949949026 \n",
      "\n",
      "Epoch 41/80\n",
      "208480/208480 [==============================] - 4s 20us/step - loss: 0.6714 - acc: 0.6873 - val_loss: 0.6782 - val_acc: 0.6840\n",
      " ### Learnig rate at the end of epoch 40 is 0.0020000000949949026 \n",
      "\n",
      "Epoch 42/80\n",
      "208480/208480 [==============================] - 4s 21us/step - loss: 0.6695 - acc: 0.6890 - val_loss: 0.6777 - val_acc: 0.6850\n",
      " ### Learnig rate at the end of epoch 41 is 0.0020000000949949026 \n",
      "\n",
      "Epoch 43/80\n",
      "208480/208480 [==============================] - 4s 20us/step - loss: 0.6691 - acc: 0.6885 - val_loss: 0.6770 - val_acc: 0.6842\n",
      " ### Learnig rate at the end of epoch 42 is 0.0020000000949949026 \n",
      "\n",
      "Epoch 44/80\n",
      "208480/208480 [==============================] - 4s 21us/step - loss: 0.6676 - acc: 0.6898 - val_loss: 0.6787 - val_acc: 0.6851\n",
      " ### Learnig rate at the end of epoch 43 is 0.0020000000949949026 \n",
      "\n",
      "Epoch 45/80\n",
      "208480/208480 [==============================] - 5s 24us/step - loss: 0.6674 - acc: 0.6896 - val_loss: 0.6762 - val_acc: 0.6861\n",
      " ### Learnig rate at the end of epoch 44 is 0.0020000000949949026 \n",
      "\n",
      "Epoch 46/80\n",
      "208480/208480 [==============================] - 6s 27us/step - loss: 0.6663 - acc: 0.6895 - val_loss: 0.6766 - val_acc: 0.6870\n",
      " ### Learnig rate at the end of epoch 45 is 0.0020000000949949026 \n",
      "\n",
      "Epoch 47/80\n",
      "208480/208480 [==============================] - 5s 26us/step - loss: 0.6656 - acc: 0.6904 - val_loss: 0.6789 - val_acc: 0.6844\n",
      " ### Learnig rate at the end of epoch 46 is 0.0020000000949949026 \n",
      "\n",
      "Epoch 48/80\n",
      "208480/208480 [==============================] - 5s 24us/step - loss: 0.6651 - acc: 0.6910 - val_loss: 0.6755 - val_acc: 0.6850\n",
      " ### Learnig rate at the end of epoch 47 is 0.0020000000949949026 \n",
      "\n",
      "Epoch 49/80\n",
      "208480/208480 [==============================] - 5s 22us/step - loss: 0.6631 - acc: 0.6919 - val_loss: 0.6767 - val_acc: 0.6879\n",
      " ### Learnig rate at the end of epoch 48 is 0.0020000000949949026 \n",
      "\n",
      "Epoch 50/80\n",
      "208480/208480 [==============================] - 5s 24us/step - loss: 0.6630 - acc: 0.6923 - val_loss: 0.6759 - val_acc: 0.6867\n",
      " ### Learnig rate at the end of epoch 49 is 0.0020000000949949026 \n",
      "\n",
      "Epoch 51/80\n",
      "208480/208480 [==============================] - 4s 21us/step - loss: 0.6625 - acc: 0.6928 - val_loss: 0.6737 - val_acc: 0.6871\n",
      " ### Learnig rate at the end of epoch 50 is 0.0020000000949949026 \n",
      "\n",
      "Epoch 52/80\n",
      "208480/208480 [==============================] - 4s 21us/step - loss: 0.6617 - acc: 0.6926 - val_loss: 0.6753 - val_acc: 0.6858\n",
      " ### Learnig rate at the end of epoch 51 is 0.0020000000949949026 \n",
      "\n",
      "Epoch 53/80\n",
      "208480/208480 [==============================] - 4s 21us/step - loss: 0.6622 - acc: 0.6929 - val_loss: 0.6740 - val_acc: 0.6877\n",
      " ### Learnig rate at the end of epoch 52 is 0.0020000000949949026 \n",
      "\n",
      "Epoch 54/80\n",
      "208480/208480 [==============================] - 4s 21us/step - loss: 0.6604 - acc: 0.6937 - val_loss: 0.6733 - val_acc: 0.6887\n",
      " ### Learnig rate at the end of epoch 53 is 0.0020000000949949026 \n",
      "\n",
      "Epoch 55/80\n",
      "208480/208480 [==============================] - 4s 21us/step - loss: 0.6607 - acc: 0.6941 - val_loss: 0.6737 - val_acc: 0.6900\n",
      " ### Learnig rate at the end of epoch 54 is 0.0020000000949949026 \n",
      "\n",
      "Epoch 56/80\n",
      "208480/208480 [==============================] - 4s 21us/step - loss: 0.6593 - acc: 0.6950 - val_loss: 0.6717 - val_acc: 0.6910\n",
      " ### Learnig rate at the end of epoch 55 is 0.0020000000949949026 \n",
      "\n",
      "Epoch 57/80\n",
      "208480/208480 [==============================] - 4s 21us/step - loss: 0.6590 - acc: 0.6932 - val_loss: 0.6728 - val_acc: 0.6898\n",
      " ### Learnig rate at the end of epoch 56 is 0.0020000000949949026 \n",
      "\n",
      "Epoch 58/80\n",
      "208480/208480 [==============================] - 5s 23us/step - loss: 0.6583 - acc: 0.6953 - val_loss: 0.6730 - val_acc: 0.6894\n",
      " ### Learnig rate at the end of epoch 57 is 0.0020000000949949026 \n",
      "\n",
      "Epoch 59/80\n",
      "208480/208480 [==============================] - 6s 30us/step - loss: 0.6581 - acc: 0.6956 - val_loss: 0.6723 - val_acc: 0.6899\n",
      " ### Learnig rate at the end of epoch 58 is 0.0020000000949949026 \n",
      "\n",
      "Epoch 60/80\n",
      "208480/208480 [==============================] - 5s 26us/step - loss: 0.6570 - acc: 0.6961 - val_loss: 0.6722 - val_acc: 0.6884\n",
      " ### Learnig rate at the end of epoch 59 is 0.0020000000949949026 \n",
      "\n",
      "Epoch 61/80\n",
      "208480/208480 [==============================] - 5s 23us/step - loss: 0.6568 - acc: 0.6951 - val_loss: 0.6726 - val_acc: 0.6892\n",
      " ### Learnig rate at the end of epoch 60 is 0.0020000000949949026 \n",
      "\n",
      "Epoch 62/80\n",
      "208480/208480 [==============================] - 6s 28us/step - loss: 0.6559 - acc: 0.6966 - val_loss: 0.6722 - val_acc: 0.6896\n",
      " ### Learnig rate at the end of epoch 61 is 0.0020000000949949026 \n",
      "\n",
      "Epoch 63/80\n",
      "208480/208480 [==============================] - 6s 26us/step - loss: 0.6557 - acc: 0.6968 - val_loss: 0.6738 - val_acc: 0.6888\n",
      " ### Learnig rate at the end of epoch 62 is 0.0020000000949949026 \n",
      "\n",
      "Epoch 64/80\n",
      "208480/208480 [==============================] - 4s 21us/step - loss: 0.6547 - acc: 0.6967 - val_loss: 0.6702 - val_acc: 0.6930\n",
      " ### Learnig rate at the end of epoch 63 is 0.0020000000949949026 \n",
      "\n",
      "Epoch 65/80\n",
      "208480/208480 [==============================] - 4s 21us/step - loss: 0.6548 - acc: 0.6965 - val_loss: 0.6704 - val_acc: 0.6921\n",
      " ### Learnig rate at the end of epoch 64 is 0.0020000000949949026 \n",
      "\n",
      "Epoch 66/80\n",
      "208480/208480 [==============================] - 4s 21us/step - loss: 0.6537 - acc: 0.6975 - val_loss: 0.6710 - val_acc: 0.6920\n",
      " ### Learnig rate at the end of epoch 65 is 0.0020000000949949026 \n",
      "\n",
      "Epoch 67/80\n",
      "208480/208480 [==============================] - 4s 21us/step - loss: 0.6534 - acc: 0.6979 - val_loss: 0.6695 - val_acc: 0.6928\n",
      " ### Learnig rate at the end of epoch 66 is 0.0020000000949949026 \n",
      "\n",
      "Epoch 68/80\n",
      "208480/208480 [==============================] - 4s 21us/step - loss: 0.6532 - acc: 0.6980 - val_loss: 0.6705 - val_acc: 0.6918\n",
      " ### Learnig rate at the end of epoch 67 is 0.0020000000949949026 \n",
      "\n",
      "Epoch 69/80\n",
      "208480/208480 [==============================] - 5s 24us/step - loss: 0.6529 - acc: 0.6985 - val_loss: 0.6713 - val_acc: 0.6905\n",
      " ### Learnig rate at the end of epoch 68 is 0.0020000000949949026 \n",
      "\n",
      "Epoch 70/80\n",
      "208480/208480 [==============================] - 5s 22us/step - loss: 0.6520 - acc: 0.6981 - val_loss: 0.6700 - val_acc: 0.6911\n",
      " ### Learnig rate at the end of epoch 69 is 0.0020000000949949026 \n",
      "\n",
      "Epoch 71/80\n",
      "208480/208480 [==============================] - 4s 21us/step - loss: 0.6514 - acc: 0.6983 - val_loss: 0.6695 - val_acc: 0.6922\n",
      " ### Learnig rate at the end of epoch 70 is 0.0020000000949949026 \n",
      "\n",
      "Epoch 72/80\n",
      "208480/208480 [==============================] - 4s 22us/step - loss: 0.6514 - acc: 0.6990 - val_loss: 0.6697 - val_acc: 0.6929\n",
      " ### Learnig rate at the end of epoch 71 is 0.0020000000949949026 \n",
      "\n",
      "Epoch 73/80\n",
      "208480/208480 [==============================] - 5s 22us/step - loss: 0.6499 - acc: 0.6997 - val_loss: 0.6722 - val_acc: 0.6913\n",
      " ### Learnig rate at the end of epoch 72 is 0.0020000000949949026 \n",
      "\n",
      "Epoch 74/80\n",
      "208480/208480 [==============================] - 4s 21us/step - loss: 0.6503 - acc: 0.6995 - val_loss: 0.6704 - val_acc: 0.6939\n",
      " ### Learnig rate at the end of epoch 73 is 0.0020000000949949026 \n",
      "\n",
      "Epoch 75/80\n",
      "208480/208480 [==============================] - 4s 21us/step - loss: 0.6500 - acc: 0.6999 - val_loss: 0.6701 - val_acc: 0.6927\n",
      " ### Learnig rate at the end of epoch 74 is 0.0020000000949949026 \n",
      "\n",
      "Epoch 76/80\n",
      "208480/208480 [==============================] - 4s 22us/step - loss: 0.6494 - acc: 0.7008 - val_loss: 0.6707 - val_acc: 0.6916\n",
      " ### Learnig rate at the end of epoch 75 is 0.0020000000949949026 \n",
      "\n",
      "Epoch 77/80\n",
      "208480/208480 [==============================] - 4s 22us/step - loss: 0.6496 - acc: 0.6995 - val_loss: 0.6707 - val_acc: 0.6910\n",
      " ### Learnig rate at the end of epoch 76 is 0.0020000000949949026 \n",
      "\n",
      "Epoch 78/80\n",
      "208480/208480 [==============================] - 4s 21us/step - loss: 0.6484 - acc: 0.7002 - val_loss: 0.6703 - val_acc: 0.6917\n",
      " ### Learnig rate at the end of epoch 77 is 0.0020000000949949026 \n",
      "\n",
      "Epoch 79/80\n"
     ]
    },
    {
     "name": "stdout",
     "output_type": "stream",
     "text": [
      "208480/208480 [==============================] - 4s 21us/step - loss: 0.6480 - acc: 0.7011 - val_loss: 0.6698 - val_acc: 0.6905\n",
      " ### Learnig rate at the end of epoch 78 is 0.0020000000949949026 \n",
      "\n",
      "Epoch 80/80\n",
      "208480/208480 [==============================] - 4s 21us/step - loss: 0.6469 - acc: 0.7014 - val_loss: 0.6714 - val_acc: 0.6920\n",
      " ### Learnig rate at the end of epoch 79 is 0.0020000000949949026 \n",
      "\n"
     ]
    }
   ],
   "source": [
    "lr_call = lr_mon()\n",
    "lr_scheduler=keras.callbacks.ReduceLROnPlateau(monitor='val_acc', factor=0.1, patience=10, verbose=0, \n",
    "                                           mode='auto', min_delta=0.0001, cooldown=0, min_lr=0)\n",
    "\n",
    "history = model.fit(X_train,y_train, batch_size=64, epochs=80, validation_data=(X_val,y_val),\n",
    "                    callbacks=[lr_call,lr_scheduler])\n"
   ]
  },
  {
   "cell_type": "markdown",
   "metadata": {},
   "source": [
    "### Visualize how the model performed"
   ]
  },
  {
   "cell_type": "code",
   "execution_count": 73,
   "metadata": {},
   "outputs": [
    {
     "data": {
      "image/png": "[encoded data removed]",
      "text/plain": [
       "<Figure size 432x288 with 1 Axes>"
      ]
     },
     "metadata": {
      "needs_background": "light"
     },
     "output_type": "display_data"
    }
   ],
   "source": [
    "train_loss = history.history['loss']\n",
    "val_loss = history.history['val_loss']\n",
    "epochs=range(1, 81)\n",
    "plt.plot(epochs, train_loss, 'r+', label='train')\n",
    "plt.plot(epochs, val_loss, 'bo', label='validation')\n",
    "plt.xlabel('Epochs')\n",
    "plt.ylabel('Loss')\n",
    "plt.title('Loss Function over Epochs')\n",
    "plt.legend()\n",
    "\n",
    "plt.show()"
   ]
  },
  {
   "cell_type": "code",
   "execution_count": 74,
   "metadata": {},
   "outputs": [
    {
     "data": {
      "image/png": "[encoded data removed]",
      "text/plain": [
       "<Figure size 432x288 with 1 Axes>"
      ]
     },
     "metadata": {
      "needs_background": "light"
     },
     "output_type": "display_data"
    }
   ],
   "source": [
    "train_acc = history.history['acc']\n",
    "val_acc = history.history['val_acc']\n",
    "epochs=range(1, 81)\n",
    "plt.plot(epochs, train_acc, 'r+', label='train')\n",
    "plt.plot(epochs, val_acc, 'bo', label='validation')\n",
    "plt.xlabel('Epochs')\n",
    "plt.ylabel('Accuracy')\n",
    "plt.title('Accuracy over Epochs')\n",
    "plt.legend()\n",
    "\n",
    "plt.show()"
   ]
  },
  {
   "cell_type": "code",
   "execution_count": 75,
   "metadata": {},
   "outputs": [],
   "source": [
    "# predicted labels\n",
    "y_pred = model.predict(X_test, batch_size=64)\n",
    "y_prediction = np.argmax(y_pred,1)+1"
   ]
  },
  {
   "cell_type": "code",
   "execution_count": 76,
   "metadata": {},
   "outputs": [
    {
     "data": {
      "text/plain": [
       "Text(0.5,1,'Number of Buildings of Predicted Damage Grade')"
      ]
     },
     "execution_count": 76,
     "metadata": {},
     "output_type": "execute_result"
    },
    {
     "data": {
      "image/png": "[encoded data removed]",
      "text/plain": [
       "<Figure size 432x288 with 1 Axes>"
      ]
     },
     "metadata": {
      "needs_background": "light"
     },
     "output_type": "display_data"
    }
   ],
   "source": [
    "sns.countplot(y_prediction)\n",
    "plt.title('Number of Buildings of Predicted Damage Grade')"
   ]
  },
  {
   "cell_type": "code",
   "execution_count": 81,
   "metadata": {},
   "outputs": [
    {
     "name": "stderr",
     "output_type": "stream",
     "text": [
      "/Library/Frameworks/Python.framework/Versions/3.7/lib/python3.7/site-packages/ipykernel_launcher.py:3: SettingWithCopyWarning: \n",
      "A value is trying to be set on a copy of a slice from a DataFrame.\n",
      "Try using .loc[row_indexer,col_indexer] = value instead\n",
      "\n",
      "See the caveats in the documentation: http://pandas.pydata.org/pandas-docs/stable/indexing.html#indexing-view-versus-copy\n",
      "  This is separate from the ipykernel package so we can avoid doing imports until\n"
     ]
    }
   ],
   "source": [
    "# submit to competition\n",
    "submission_df = Test_values_df[['building_id']]\n",
    "submission_df['damage_grade'] = y_prediction\n",
    "submission_df.to_csv('submission_keras.csv',index=False)"
   ]
  },
  {
   "cell_type": "markdown",
   "metadata": {},
   "source": [
    "# Hyper-Tune Bagging Classifier"
   ]
  },
  {
   "cell_type": "code",
   "execution_count": 109,
   "metadata": {},
   "outputs": [
    {
     "name": "stderr",
     "output_type": "stream",
     "text": [
      "/Library/Frameworks/Python.framework/Versions/3.7/lib/python3.7/site-packages/sklearn/model_selection/_split.py:2053: FutureWarning: You should specify a value for 'cv' instead of relying on the default value. The default value will change from 3 to 5 in version 0.22.\n",
      "  warnings.warn(CV_WARNING, FutureWarning)\n"
     ]
    },
    {
     "data": {
      "text/plain": [
       "GridSearchCV(cv='warn', error_score='raise-deprecating',\n",
       "       estimator=BaggingClassifier(base_estimator=DecisionTreeClassifier(class_weight=None, criterion='gini', max_depth=None,\n",
       "            max_features=None, max_leaf_nodes=None,\n",
       "            min_impurity_decrease=0.0, min_impurity_split=None,\n",
       "            min_samples_leaf=1, min_samples_split=2,\n",
       "            ...stimators=10, n_jobs=None, oob_score=False,\n",
       "         random_state=None, verbose=0, warm_start=False),\n",
       "       fit_params=None, iid='warn', n_jobs=None,\n",
       "       param_grid={'n_estimators': [50, 100, 200], 'max_samples': [0.7, 0.8, 0.9, 1.0]},\n",
       "       pre_dispatch='2*n_jobs', refit=True, return_train_score='warn',\n",
       "       scoring='accuracy', verbose=0)"
      ]
     },
     "execution_count": 109,
     "metadata": {},
     "output_type": "execute_result"
    }
   ],
   "source": [
    "param_grid = { 'n_estimators' : [50,100,200], 'max_samples' : [0.7, 0.8,0.9,1.0] }\n",
    "\n",
    "grid_clf = GridSearchCV(BaggingClassifier(DecisionTreeClassifier(), max_features = 0.5), \n",
    "                        param_grid, scoring = 'accuracy')\n",
    "\n",
    "grid_clf.fit(Train_X,train_labels)"
   ]
  },
  {
   "cell_type": "code",
   "execution_count": 110,
   "metadata": {},
   "outputs": [
    {
     "name": "stdout",
     "output_type": "stream",
     "text": [
      "{'max_samples': 0.7, 'n_estimators': 200}\n"
     ]
    }
   ],
   "source": [
    "best_parameters = grid_clf.best_params_\n",
    "print(best_parameters)"
   ]
  },
  {
   "cell_type": "code",
   "execution_count": 114,
   "metadata": {},
   "outputs": [],
   "source": [
    "clf = BaggingClassifier(DecisionTreeClassifier(),n_estimators=200,max_samples=0.7,max_features=0.5)\n",
    "clf.fit(Train_X,train_labels)\n",
    "y_pred_test = clf.predict(Test_X)"
   ]
  },
  {
   "cell_type": "code",
   "execution_count": 115,
   "metadata": {},
   "outputs": [
    {
     "name": "stderr",
     "output_type": "stream",
     "text": [
      "/Library/Frameworks/Python.framework/Versions/3.7/lib/python3.7/site-packages/ipykernel_launcher.py:3: SettingWithCopyWarning: \n",
      "A value is trying to be set on a copy of a slice from a DataFrame.\n",
      "Try using .loc[row_indexer,col_indexer] = value instead\n",
      "\n",
      "See the caveats in the documentation: http://pandas.pydata.org/pandas-docs/stable/indexing.html#indexing-view-versus-copy\n",
      "  This is separate from the ipykernel package so we can avoid doing imports until\n"
     ]
    }
   ],
   "source": [
    "# submit to competition\n",
    "submission_df = Test_values_df[['building_id']]\n",
    "submission_df['damage_grade'] = y_pred_test\n",
    "submission_df.to_csv('submission_bagging2.csv',index=False)\n",
    "# F1 score: 0.7462"
   ]
  }
 ],
 "metadata": {
  "kernelspec": {
   "display_name": "Python 3",
   "language": "python",
   "name": "python3"
  },
  "language_info": {
   "codemirror_mode": {
    "name": "ipython",
    "version": 3
   },
   "file_extension": ".py",
   "mimetype": "text/x-python",
   "name": "python",
   "nbconvert_exporter": "python",
   "pygments_lexer": "ipython3",
   "version": "3.7.0"
  }
 },
 "nbformat": 4,
 "nbformat_minor": 2
}
